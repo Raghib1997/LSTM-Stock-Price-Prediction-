{
  "nbformat": 4,
  "nbformat_minor": 0,
  "metadata": {
    "colab": {
      "provenance": []
    },
    "kernelspec": {
      "name": "python3",
      "display_name": "Python 3"
    },
    "language_info": {
      "name": "python"
    },
    "accelerator": "GPU",
    "gpuClass": "standard"
  },
  "cells": [
    {
      "cell_type": "code",
      "execution_count": 1,
      "metadata": {
        "id": "ohO8FDPA8VxT"
      },
      "outputs": [],
      "source": [
        "import math\n",
        "import pandas_datareader as web\n",
        "import numpy as np\n",
        "import pandas as pd\n",
        "import matplotlib.pyplot as plt\n",
        "import seaborn as sns\n",
        "plt.style.use(\"fivethirtyeight\")\n",
        "sns.set_style('whitegrid')\n",
        "%matplotlib inline \n",
        "from datetime import datetime\n",
        "from sklearn.preprocessing import MinMaxScaler\n",
        "from keras.models import Sequential\n",
        "from keras.layers import Dense,LSTM"
      ]
    },
    {
      "cell_type": "code",
      "source": [
        "# # here we are Getting the stock quote\n",
        "# df = web.DataReader('AAPL', data_source='yahoo', start='2012-01-01', end=datetime.now())\n",
        "# # printing the data\n",
        "# df\n",
        "\n",
        "# import pandas_datareader as pdr\n",
        "# import datetime as dt\n",
        "# ticker = \"AAPL\"\n",
        "# start = dt.datetime(2002, 1, 1)\n",
        "# end = dt.datetime(2022, 11, 19)\n",
        "# data = pdr.get_data_yahoo(ticker, start, end, \n",
        "# #                           interval='day'\n",
        "#                          )\n",
        "# print(data)\n",
        "\n",
        "start = pd.to_datetime(['2002-01-01']).astype(int)[0]//10**9 # convert to unix timestamp.\n",
        "end = pd.to_datetime(['2023-01-16']).astype(int)[0]//10**9 # convert to unix timestamp.\n",
        "stock_ticker=\"HDB\"\n",
        "url = 'https://query1.finance.yahoo.com/v7/finance/download/' + stock_ticker + '?period1=' + str(start) + '&period2=' + str(end) + '&interval=1d&events=history'\n",
        "df = pd.read_csv(url)\n"
      ],
      "metadata": {
        "colab": {
          "base_uri": "https://localhost:8080/"
        },
        "id": "in_YGD_i8YDn",
        "outputId": "8e3873cc-bd20-4ff9-8be0-56f0cab71010"
      },
      "execution_count": 75,
      "outputs": [
        {
          "output_type": "stream",
          "name": "stderr",
          "text": [
            "<ipython-input-75-c864824f20ac>:16: FutureWarning: casting datetime64[ns] values to int64 with .astype(...) is deprecated and will raise in a future version. Use .view(...) instead.\n",
            "  start = pd.to_datetime(['2002-01-01']).astype(int)[0]//10**9 # convert to unix timestamp.\n",
            "<ipython-input-75-c864824f20ac>:17: FutureWarning: casting datetime64[ns] values to int64 with .astype(...) is deprecated and will raise in a future version. Use .view(...) instead.\n",
            "  end = pd.to_datetime(['2023-01-16']).astype(int)[0]//10**9 # convert to unix timestamp.\n"
          ]
        }
      ]
    },
    {
      "cell_type": "code",
      "source": [
        "df.shape"
      ],
      "metadata": {
        "id": "A1aiB2Lb8cNJ",
        "colab": {
          "base_uri": "https://localhost:8080/"
        },
        "outputId": "95f21d41-5252-45ba-e2b5-cb10728ff2d2"
      },
      "execution_count": 76,
      "outputs": [
        {
          "output_type": "execute_result",
          "data": {
            "text/plain": [
              "(5296, 7)"
            ]
          },
          "metadata": {},
          "execution_count": 76
        }
      ]
    },
    {
      "cell_type": "code",
      "source": [
        "df.tail()"
      ],
      "metadata": {
        "colab": {
          "base_uri": "https://localhost:8080/",
          "height": 206
        },
        "id": "2Wr13-Dq6KfH",
        "outputId": "4b65500f-4278-4291-dd39-2d3168e20962"
      },
      "execution_count": 77,
      "outputs": [
        {
          "output_type": "execute_result",
          "data": {
            "text/plain": [
              "            Date       Open       High        Low      Close  Adj Close  \\\n",
              "5291  2023-01-09  67.589996  67.959999  66.559998  67.400002  67.400002   \n",
              "5292  2023-01-10  67.099998  67.120003  65.230003  65.580002  65.580002   \n",
              "5293  2023-01-11  65.940002  66.849998  65.360001  66.580002  66.580002   \n",
              "5294  2023-01-12  67.139999  67.139999  66.349998  66.699997  66.699997   \n",
              "5295  2023-01-13  66.360001  67.809998  66.290001  67.519997  67.519997   \n",
              "\n",
              "       Volume  \n",
              "5291  1027000  \n",
              "5292  1356200  \n",
              "5293  1166100  \n",
              "5294  1251200  \n",
              "5295   959800  "
            ],
            "text/html": [
              "\n",
              "  <div id=\"df-d0a2b3a8-1695-4e31-92dd-817d9f6545ce\">\n",
              "    <div class=\"colab-df-container\">\n",
              "      <div>\n",
              "<style scoped>\n",
              "    .dataframe tbody tr th:only-of-type {\n",
              "        vertical-align: middle;\n",
              "    }\n",
              "\n",
              "    .dataframe tbody tr th {\n",
              "        vertical-align: top;\n",
              "    }\n",
              "\n",
              "    .dataframe thead th {\n",
              "        text-align: right;\n",
              "    }\n",
              "</style>\n",
              "<table border=\"1\" class=\"dataframe\">\n",
              "  <thead>\n",
              "    <tr style=\"text-align: right;\">\n",
              "      <th></th>\n",
              "      <th>Date</th>\n",
              "      <th>Open</th>\n",
              "      <th>High</th>\n",
              "      <th>Low</th>\n",
              "      <th>Close</th>\n",
              "      <th>Adj Close</th>\n",
              "      <th>Volume</th>\n",
              "    </tr>\n",
              "  </thead>\n",
              "  <tbody>\n",
              "    <tr>\n",
              "      <th>5291</th>\n",
              "      <td>2023-01-09</td>\n",
              "      <td>67.589996</td>\n",
              "      <td>67.959999</td>\n",
              "      <td>66.559998</td>\n",
              "      <td>67.400002</td>\n",
              "      <td>67.400002</td>\n",
              "      <td>1027000</td>\n",
              "    </tr>\n",
              "    <tr>\n",
              "      <th>5292</th>\n",
              "      <td>2023-01-10</td>\n",
              "      <td>67.099998</td>\n",
              "      <td>67.120003</td>\n",
              "      <td>65.230003</td>\n",
              "      <td>65.580002</td>\n",
              "      <td>65.580002</td>\n",
              "      <td>1356200</td>\n",
              "    </tr>\n",
              "    <tr>\n",
              "      <th>5293</th>\n",
              "      <td>2023-01-11</td>\n",
              "      <td>65.940002</td>\n",
              "      <td>66.849998</td>\n",
              "      <td>65.360001</td>\n",
              "      <td>66.580002</td>\n",
              "      <td>66.580002</td>\n",
              "      <td>1166100</td>\n",
              "    </tr>\n",
              "    <tr>\n",
              "      <th>5294</th>\n",
              "      <td>2023-01-12</td>\n",
              "      <td>67.139999</td>\n",
              "      <td>67.139999</td>\n",
              "      <td>66.349998</td>\n",
              "      <td>66.699997</td>\n",
              "      <td>66.699997</td>\n",
              "      <td>1251200</td>\n",
              "    </tr>\n",
              "    <tr>\n",
              "      <th>5295</th>\n",
              "      <td>2023-01-13</td>\n",
              "      <td>66.360001</td>\n",
              "      <td>67.809998</td>\n",
              "      <td>66.290001</td>\n",
              "      <td>67.519997</td>\n",
              "      <td>67.519997</td>\n",
              "      <td>959800</td>\n",
              "    </tr>\n",
              "  </tbody>\n",
              "</table>\n",
              "</div>\n",
              "      <button class=\"colab-df-convert\" onclick=\"convertToInteractive('df-d0a2b3a8-1695-4e31-92dd-817d9f6545ce')\"\n",
              "              title=\"Convert this dataframe to an interactive table.\"\n",
              "              style=\"display:none;\">\n",
              "        \n",
              "  <svg xmlns=\"http://www.w3.org/2000/svg\" height=\"24px\"viewBox=\"0 0 24 24\"\n",
              "       width=\"24px\">\n",
              "    <path d=\"M0 0h24v24H0V0z\" fill=\"none\"/>\n",
              "    <path d=\"M18.56 5.44l.94 2.06.94-2.06 2.06-.94-2.06-.94-.94-2.06-.94 2.06-2.06.94zm-11 1L8.5 8.5l.94-2.06 2.06-.94-2.06-.94L8.5 2.5l-.94 2.06-2.06.94zm10 10l.94 2.06.94-2.06 2.06-.94-2.06-.94-.94-2.06-.94 2.06-2.06.94z\"/><path d=\"M17.41 7.96l-1.37-1.37c-.4-.4-.92-.59-1.43-.59-.52 0-1.04.2-1.43.59L10.3 9.45l-7.72 7.72c-.78.78-.78 2.05 0 2.83L4 21.41c.39.39.9.59 1.41.59.51 0 1.02-.2 1.41-.59l7.78-7.78 2.81-2.81c.8-.78.8-2.07 0-2.86zM5.41 20L4 18.59l7.72-7.72 1.47 1.35L5.41 20z\"/>\n",
              "  </svg>\n",
              "      </button>\n",
              "      \n",
              "  <style>\n",
              "    .colab-df-container {\n",
              "      display:flex;\n",
              "      flex-wrap:wrap;\n",
              "      gap: 12px;\n",
              "    }\n",
              "\n",
              "    .colab-df-convert {\n",
              "      background-color: #E8F0FE;\n",
              "      border: none;\n",
              "      border-radius: 50%;\n",
              "      cursor: pointer;\n",
              "      display: none;\n",
              "      fill: #1967D2;\n",
              "      height: 32px;\n",
              "      padding: 0 0 0 0;\n",
              "      width: 32px;\n",
              "    }\n",
              "\n",
              "    .colab-df-convert:hover {\n",
              "      background-color: #E2EBFA;\n",
              "      box-shadow: 0px 1px 2px rgba(60, 64, 67, 0.3), 0px 1px 3px 1px rgba(60, 64, 67, 0.15);\n",
              "      fill: #174EA6;\n",
              "    }\n",
              "\n",
              "    [theme=dark] .colab-df-convert {\n",
              "      background-color: #3B4455;\n",
              "      fill: #D2E3FC;\n",
              "    }\n",
              "\n",
              "    [theme=dark] .colab-df-convert:hover {\n",
              "      background-color: #434B5C;\n",
              "      box-shadow: 0px 1px 3px 1px rgba(0, 0, 0, 0.15);\n",
              "      filter: drop-shadow(0px 1px 2px rgba(0, 0, 0, 0.3));\n",
              "      fill: #FFFFFF;\n",
              "    }\n",
              "  </style>\n",
              "\n",
              "      <script>\n",
              "        const buttonEl =\n",
              "          document.querySelector('#df-d0a2b3a8-1695-4e31-92dd-817d9f6545ce button.colab-df-convert');\n",
              "        buttonEl.style.display =\n",
              "          google.colab.kernel.accessAllowed ? 'block' : 'none';\n",
              "\n",
              "        async function convertToInteractive(key) {\n",
              "          const element = document.querySelector('#df-d0a2b3a8-1695-4e31-92dd-817d9f6545ce');\n",
              "          const dataTable =\n",
              "            await google.colab.kernel.invokeFunction('convertToInteractive',\n",
              "                                                     [key], {});\n",
              "          if (!dataTable) return;\n",
              "\n",
              "          const docLinkHtml = 'Like what you see? Visit the ' +\n",
              "            '<a target=\"_blank\" href=https://colab.research.google.com/notebooks/data_table.ipynb>data table notebook</a>'\n",
              "            + ' to learn more about interactive tables.';\n",
              "          element.innerHTML = '';\n",
              "          dataTable['output_type'] = 'display_data';\n",
              "          await google.colab.output.renderOutput(dataTable, element);\n",
              "          const docLink = document.createElement('div');\n",
              "          docLink.innerHTML = docLinkHtml;\n",
              "          element.appendChild(docLink);\n",
              "        }\n",
              "      </script>\n",
              "    </div>\n",
              "  </div>\n",
              "  "
            ]
          },
          "metadata": {},
          "execution_count": 77
        }
      ]
    },
    {
      "cell_type": "code",
      "source": [
        "tt=df[[\"Date\", \"Open\"]]\n",
        "tt.set_index([\"Date\"], inplace=True)"
      ],
      "metadata": {
        "id": "4R_fREZf6w1Z"
      },
      "execution_count": 78,
      "outputs": []
    },
    {
      "cell_type": "code",
      "source": [
        "tt.plot(figsize=(20,7))\n",
        "plt.show()"
      ],
      "metadata": {
        "colab": {
          "base_uri": "https://localhost:8080/",
          "height": 278
        },
        "id": "3OimizbK7DpB",
        "outputId": "784ec6ac-4f42-497a-a4f8-3a7fea3a2777"
      },
      "execution_count": 79,
      "outputs": [
        {
          "output_type": "display_data",
          "data": {
            "text/plain": [
              "<Figure size 1440x504 with 1 Axes>"
            ],
            "image/png": "[encoded data removed]"
          },
          "metadata": {
            "needs_background": "light"
          }
        }
      ]
    },
    {
      "cell_type": "code",
      "source": [
        "plt.figure(figsize=(16,8))\n",
        "plt.plot(df[\"Open\"])\n",
        "plt.title(\"Stock Price of Google \", fontsize=30)\n",
        "plt.xlabel(\"Date\", fontsize=15)\n",
        "plt.ylabel(\"Open price USA ($)\", fontsize=15)\n",
        "plt.show()"
      ],
      "metadata": {
        "colab": {
          "base_uri": "https://localhost:8080/",
          "height": 400
        },
        "id": "KFeJqfE9B9On",
        "outputId": "5c4205df-4e9c-454e-d876-b622114a63ad"
      },
      "execution_count": 80,
      "outputs": [
        {
          "output_type": "display_data",
          "data": {
            "text/plain": [
              "<Figure size 1152x576 with 1 Axes>"
            ],
            "image/png": "[encoded data removed]"
          },
          "metadata": {
            "needs_background": "light"
          }
        }
      ]
    },
    {
      "cell_type": "code",
      "source": [
        "# To stock price prediction in lstm / deeplearning - \n",
        "# we require to know that todays sale/price depends on how many previous values "
      ],
      "metadata": {
        "id": "qfwaSFqQB3IB"
      },
      "execution_count": null,
      "outputs": []
    },
    {
      "cell_type": "code",
      "source": [
        "df.head()"
      ],
      "metadata": {
        "colab": {
          "base_uri": "https://localhost:8080/",
          "height": 206
        },
        "id": "qpIHkSY5Dnl0",
        "outputId": "82572580-d730-4678-e506-f9faddc9650e"
      },
      "execution_count": 81,
      "outputs": [
        {
          "output_type": "execute_result",
          "data": {
            "text/plain": [
              "         Date   Open   High    Low  Close  Adj Close  Volume\n",
              "0  2002-01-02  1.440  1.461  1.440  1.461   1.266397  105000\n",
              "1  2002-01-03  1.445  1.459  1.430  1.430   1.239527  263000\n",
              "2  2002-01-04  1.420  1.470  1.390  1.390   1.204854  825000\n",
              "3  2002-01-07  1.380  1.380  1.346  1.375   1.191852  251000\n",
              "4  2002-01-08  1.385  1.385  1.352  1.375   1.191852  223000"
            ],
            "text/html": [
              "\n",
              "  <div id=\"df-f4ca40c6-89d9-43a9-85a0-33b8c6f1607a\">\n",
              "    <div class=\"colab-df-container\">\n",
              "      <div>\n",
              "<style scoped>\n",
              "    .dataframe tbody tr th:only-of-type {\n",
              "        vertical-align: middle;\n",
              "    }\n",
              "\n",
              "    .dataframe tbody tr th {\n",
              "        vertical-align: top;\n",
              "    }\n",
              "\n",
              "    .dataframe thead th {\n",
              "        text-align: right;\n",
              "    }\n",
              "</style>\n",
              "<table border=\"1\" class=\"dataframe\">\n",
              "  <thead>\n",
              "    <tr style=\"text-align: right;\">\n",
              "      <th></th>\n",
              "      <th>Date</th>\n",
              "      <th>Open</th>\n",
              "      <th>High</th>\n",
              "      <th>Low</th>\n",
              "      <th>Close</th>\n",
              "      <th>Adj Close</th>\n",
              "      <th>Volume</th>\n",
              "    </tr>\n",
              "  </thead>\n",
              "  <tbody>\n",
              "    <tr>\n",
              "      <th>0</th>\n",
              "      <td>2002-01-02</td>\n",
              "      <td>1.440</td>\n",
              "      <td>1.461</td>\n",
              "      <td>1.440</td>\n",
              "      <td>1.461</td>\n",
              "      <td>1.266397</td>\n",
              "      <td>105000</td>\n",
              "    </tr>\n",
              "    <tr>\n",
              "      <th>1</th>\n",
              "      <td>2002-01-03</td>\n",
              "      <td>1.445</td>\n",
              "      <td>1.459</td>\n",
              "      <td>1.430</td>\n",
              "      <td>1.430</td>\n",
              "      <td>1.239527</td>\n",
              "      <td>263000</td>\n",
              "    </tr>\n",
              "    <tr>\n",
              "      <th>2</th>\n",
              "      <td>2002-01-04</td>\n",
              "      <td>1.420</td>\n",
              "      <td>1.470</td>\n",
              "      <td>1.390</td>\n",
              "      <td>1.390</td>\n",
              "      <td>1.204854</td>\n",
              "      <td>825000</td>\n",
              "    </tr>\n",
              "    <tr>\n",
              "      <th>3</th>\n",
              "      <td>2002-01-07</td>\n",
              "      <td>1.380</td>\n",
              "      <td>1.380</td>\n",
              "      <td>1.346</td>\n",
              "      <td>1.375</td>\n",
              "      <td>1.191852</td>\n",
              "      <td>251000</td>\n",
              "    </tr>\n",
              "    <tr>\n",
              "      <th>4</th>\n",
              "      <td>2002-01-08</td>\n",
              "      <td>1.385</td>\n",
              "      <td>1.385</td>\n",
              "      <td>1.352</td>\n",
              "      <td>1.375</td>\n",
              "      <td>1.191852</td>\n",
              "      <td>223000</td>\n",
              "    </tr>\n",
              "  </tbody>\n",
              "</table>\n",
              "</div>\n",
              "      <button class=\"colab-df-convert\" onclick=\"convertToInteractive('df-f4ca40c6-89d9-43a9-85a0-33b8c6f1607a')\"\n",
              "              title=\"Convert this dataframe to an interactive table.\"\n",
              "              style=\"display:none;\">\n",
              "        \n",
              "  <svg xmlns=\"http://www.w3.org/2000/svg\" height=\"24px\"viewBox=\"0 0 24 24\"\n",
              "       width=\"24px\">\n",
              "    <path d=\"M0 0h24v24H0V0z\" fill=\"none\"/>\n",
              "    <path d=\"M18.56 5.44l.94 2.06.94-2.06 2.06-.94-2.06-.94-.94-2.06-.94 2.06-2.06.94zm-11 1L8.5 8.5l.94-2.06 2.06-.94-2.06-.94L8.5 2.5l-.94 2.06-2.06.94zm10 10l.94 2.06.94-2.06 2.06-.94-2.06-.94-.94-2.06-.94 2.06-2.06.94z\"/><path d=\"M17.41 7.96l-1.37-1.37c-.4-.4-.92-.59-1.43-.59-.52 0-1.04.2-1.43.59L10.3 9.45l-7.72 7.72c-.78.78-.78 2.05 0 2.83L4 21.41c.39.39.9.59 1.41.59.51 0 1.02-.2 1.41-.59l7.78-7.78 2.81-2.81c.8-.78.8-2.07 0-2.86zM5.41 20L4 18.59l7.72-7.72 1.47 1.35L5.41 20z\"/>\n",
              "  </svg>\n",
              "      </button>\n",
              "      \n",
              "  <style>\n",
              "    .colab-df-container {\n",
              "      display:flex;\n",
              "      flex-wrap:wrap;\n",
              "      gap: 12px;\n",
              "    }\n",
              "\n",
              "    .colab-df-convert {\n",
              "      background-color: #E8F0FE;\n",
              "      border: none;\n",
              "      border-radius: 50%;\n",
              "      cursor: pointer;\n",
              "      display: none;\n",
              "      fill: #1967D2;\n",
              "      height: 32px;\n",
              "      padding: 0 0 0 0;\n",
              "      width: 32px;\n",
              "    }\n",
              "\n",
              "    .colab-df-convert:hover {\n",
              "      background-color: #E2EBFA;\n",
              "      box-shadow: 0px 1px 2px rgba(60, 64, 67, 0.3), 0px 1px 3px 1px rgba(60, 64, 67, 0.15);\n",
              "      fill: #174EA6;\n",
              "    }\n",
              "\n",
              "    [theme=dark] .colab-df-convert {\n",
              "      background-color: #3B4455;\n",
              "      fill: #D2E3FC;\n",
              "    }\n",
              "\n",
              "    [theme=dark] .colab-df-convert:hover {\n",
              "      background-color: #434B5C;\n",
              "      box-shadow: 0px 1px 3px 1px rgba(0, 0, 0, 0.15);\n",
              "      filter: drop-shadow(0px 1px 2px rgba(0, 0, 0, 0.3));\n",
              "      fill: #FFFFFF;\n",
              "    }\n",
              "  </style>\n",
              "\n",
              "      <script>\n",
              "        const buttonEl =\n",
              "          document.querySelector('#df-f4ca40c6-89d9-43a9-85a0-33b8c6f1607a button.colab-df-convert');\n",
              "        buttonEl.style.display =\n",
              "          google.colab.kernel.accessAllowed ? 'block' : 'none';\n",
              "\n",
              "        async function convertToInteractive(key) {\n",
              "          const element = document.querySelector('#df-f4ca40c6-89d9-43a9-85a0-33b8c6f1607a');\n",
              "          const dataTable =\n",
              "            await google.colab.kernel.invokeFunction('convertToInteractive',\n",
              "                                                     [key], {});\n",
              "          if (!dataTable) return;\n",
              "\n",
              "          const docLinkHtml = 'Like what you see? Visit the ' +\n",
              "            '<a target=\"_blank\" href=https://colab.research.google.com/notebooks/data_table.ipynb>data table notebook</a>'\n",
              "            + ' to learn more about interactive tables.';\n",
              "          element.innerHTML = '';\n",
              "          dataTable['output_type'] = 'display_data';\n",
              "          await google.colab.output.renderOutput(dataTable, element);\n",
              "          const docLink = document.createElement('div');\n",
              "          docLink.innerHTML = docLinkHtml;\n",
              "          element.appendChild(docLink);\n",
              "        }\n",
              "      </script>\n",
              "    </div>\n",
              "  </div>\n",
              "  "
            ]
          },
          "metadata": {},
          "execution_count": 81
        }
      ]
    },
    {
      "cell_type": "code",
      "source": [
        "df.tail()"
      ],
      "metadata": {
        "colab": {
          "base_uri": "https://localhost:8080/",
          "height": 206
        },
        "id": "FePklj6LL52m",
        "outputId": "462e411d-e29d-479a-f946-25968aa2517f"
      },
      "execution_count": 82,
      "outputs": [
        {
          "output_type": "execute_result",
          "data": {
            "text/plain": [
              "            Date       Open       High        Low      Close  Adj Close  \\\n",
              "5291  2023-01-09  67.589996  67.959999  66.559998  67.400002  67.400002   \n",
              "5292  2023-01-10  67.099998  67.120003  65.230003  65.580002  65.580002   \n",
              "5293  2023-01-11  65.940002  66.849998  65.360001  66.580002  66.580002   \n",
              "5294  2023-01-12  67.139999  67.139999  66.349998  66.699997  66.699997   \n",
              "5295  2023-01-13  66.360001  67.809998  66.290001  67.519997  67.519997   \n",
              "\n",
              "       Volume  \n",
              "5291  1027000  \n",
              "5292  1356200  \n",
              "5293  1166100  \n",
              "5294  1251200  \n",
              "5295   959800  "
            ],
            "text/html": [
              "\n",
              "  <div id=\"df-84a83511-1da6-4975-a8ba-d06b46b542bd\">\n",
              "    <div class=\"colab-df-container\">\n",
              "      <div>\n",
              "<style scoped>\n",
              "    .dataframe tbody tr th:only-of-type {\n",
              "        vertical-align: middle;\n",
              "    }\n",
              "\n",
              "    .dataframe tbody tr th {\n",
              "        vertical-align: top;\n",
              "    }\n",
              "\n",
              "    .dataframe thead th {\n",
              "        text-align: right;\n",
              "    }\n",
              "</style>\n",
              "<table border=\"1\" class=\"dataframe\">\n",
              "  <thead>\n",
              "    <tr style=\"text-align: right;\">\n",
              "      <th></th>\n",
              "      <th>Date</th>\n",
              "      <th>Open</th>\n",
              "      <th>High</th>\n",
              "      <th>Low</th>\n",
              "      <th>Close</th>\n",
              "      <th>Adj Close</th>\n",
              "      <th>Volume</th>\n",
              "    </tr>\n",
              "  </thead>\n",
              "  <tbody>\n",
              "    <tr>\n",
              "      <th>5291</th>\n",
              "      <td>2023-01-09</td>\n",
              "      <td>67.589996</td>\n",
              "      <td>67.959999</td>\n",
              "      <td>66.559998</td>\n",
              "      <td>67.400002</td>\n",
              "      <td>67.400002</td>\n",
              "      <td>1027000</td>\n",
              "    </tr>\n",
              "    <tr>\n",
              "      <th>5292</th>\n",
              "      <td>2023-01-10</td>\n",
              "      <td>67.099998</td>\n",
              "      <td>67.120003</td>\n",
              "      <td>65.230003</td>\n",
              "      <td>65.580002</td>\n",
              "      <td>65.580002</td>\n",
              "      <td>1356200</td>\n",
              "    </tr>\n",
              "    <tr>\n",
              "      <th>5293</th>\n",
              "      <td>2023-01-11</td>\n",
              "      <td>65.940002</td>\n",
              "      <td>66.849998</td>\n",
              "      <td>65.360001</td>\n",
              "      <td>66.580002</td>\n",
              "      <td>66.580002</td>\n",
              "      <td>1166100</td>\n",
              "    </tr>\n",
              "    <tr>\n",
              "      <th>5294</th>\n",
              "      <td>2023-01-12</td>\n",
              "      <td>67.139999</td>\n",
              "      <td>67.139999</td>\n",
              "      <td>66.349998</td>\n",
              "      <td>66.699997</td>\n",
              "      <td>66.699997</td>\n",
              "      <td>1251200</td>\n",
              "    </tr>\n",
              "    <tr>\n",
              "      <th>5295</th>\n",
              "      <td>2023-01-13</td>\n",
              "      <td>66.360001</td>\n",
              "      <td>67.809998</td>\n",
              "      <td>66.290001</td>\n",
              "      <td>67.519997</td>\n",
              "      <td>67.519997</td>\n",
              "      <td>959800</td>\n",
              "    </tr>\n",
              "  </tbody>\n",
              "</table>\n",
              "</div>\n",
              "      <button class=\"colab-df-convert\" onclick=\"convertToInteractive('df-84a83511-1da6-4975-a8ba-d06b46b542bd')\"\n",
              "              title=\"Convert this dataframe to an interactive table.\"\n",
              "              style=\"display:none;\">\n",
              "        \n",
              "  <svg xmlns=\"http://www.w3.org/2000/svg\" height=\"24px\"viewBox=\"0 0 24 24\"\n",
              "       width=\"24px\">\n",
              "    <path d=\"M0 0h24v24H0V0z\" fill=\"none\"/>\n",
              "    <path d=\"M18.56 5.44l.94 2.06.94-2.06 2.06-.94-2.06-.94-.94-2.06-.94 2.06-2.06.94zm-11 1L8.5 8.5l.94-2.06 2.06-.94-2.06-.94L8.5 2.5l-.94 2.06-2.06.94zm10 10l.94 2.06.94-2.06 2.06-.94-2.06-.94-.94-2.06-.94 2.06-2.06.94z\"/><path d=\"M17.41 7.96l-1.37-1.37c-.4-.4-.92-.59-1.43-.59-.52 0-1.04.2-1.43.59L10.3 9.45l-7.72 7.72c-.78.78-.78 2.05 0 2.83L4 21.41c.39.39.9.59 1.41.59.51 0 1.02-.2 1.41-.59l7.78-7.78 2.81-2.81c.8-.78.8-2.07 0-2.86zM5.41 20L4 18.59l7.72-7.72 1.47 1.35L5.41 20z\"/>\n",
              "  </svg>\n",
              "      </button>\n",
              "      \n",
              "  <style>\n",
              "    .colab-df-container {\n",
              "      display:flex;\n",
              "      flex-wrap:wrap;\n",
              "      gap: 12px;\n",
              "    }\n",
              "\n",
              "    .colab-df-convert {\n",
              "      background-color: #E8F0FE;\n",
              "      border: none;\n",
              "      border-radius: 50%;\n",
              "      cursor: pointer;\n",
              "      display: none;\n",
              "      fill: #1967D2;\n",
              "      height: 32px;\n",
              "      padding: 0 0 0 0;\n",
              "      width: 32px;\n",
              "    }\n",
              "\n",
              "    .colab-df-convert:hover {\n",
              "      background-color: #E2EBFA;\n",
              "      box-shadow: 0px 1px 2px rgba(60, 64, 67, 0.3), 0px 1px 3px 1px rgba(60, 64, 67, 0.15);\n",
              "      fill: #174EA6;\n",
              "    }\n",
              "\n",
              "    [theme=dark] .colab-df-convert {\n",
              "      background-color: #3B4455;\n",
              "      fill: #D2E3FC;\n",
              "    }\n",
              "\n",
              "    [theme=dark] .colab-df-convert:hover {\n",
              "      background-color: #434B5C;\n",
              "      box-shadow: 0px 1px 3px 1px rgba(0, 0, 0, 0.15);\n",
              "      filter: drop-shadow(0px 1px 2px rgba(0, 0, 0, 0.3));\n",
              "      fill: #FFFFFF;\n",
              "    }\n",
              "  </style>\n",
              "\n",
              "      <script>\n",
              "        const buttonEl =\n",
              "          document.querySelector('#df-84a83511-1da6-4975-a8ba-d06b46b542bd button.colab-df-convert');\n",
              "        buttonEl.style.display =\n",
              "          google.colab.kernel.accessAllowed ? 'block' : 'none';\n",
              "\n",
              "        async function convertToInteractive(key) {\n",
              "          const element = document.querySelector('#df-84a83511-1da6-4975-a8ba-d06b46b542bd');\n",
              "          const dataTable =\n",
              "            await google.colab.kernel.invokeFunction('convertToInteractive',\n",
              "                                                     [key], {});\n",
              "          if (!dataTable) return;\n",
              "\n",
              "          const docLinkHtml = 'Like what you see? Visit the ' +\n",
              "            '<a target=\"_blank\" href=https://colab.research.google.com/notebooks/data_table.ipynb>data table notebook</a>'\n",
              "            + ' to learn more about interactive tables.';\n",
              "          element.innerHTML = '';\n",
              "          dataTable['output_type'] = 'display_data';\n",
              "          await google.colab.output.renderOutput(dataTable, element);\n",
              "          const docLink = document.createElement('div');\n",
              "          docLink.innerHTML = docLinkHtml;\n",
              "          element.appendChild(docLink);\n",
              "        }\n",
              "      </script>\n",
              "    </div>\n",
              "  </div>\n",
              "  "
            ]
          },
          "metadata": {},
          "execution_count": 82
        }
      ]
    },
    {
      "cell_type": "code",
      "source": [
        "data=df[\"Close\"]\n",
        "data_set=data.values"
      ],
      "metadata": {
        "id": "99JhBpKlDNv0"
      },
      "execution_count": 83,
      "outputs": []
    },
    {
      "cell_type": "code",
      "source": [
        "data.max()"
      ],
      "metadata": {
        "colab": {
          "base_uri": "https://localhost:8080/"
        },
        "id": "BhEU2m6tDs01",
        "outputId": "4d1420d0-8465-45cb-9b9a-b37201cd3f66"
      },
      "execution_count": 86,
      "outputs": [
        {
          "output_type": "execute_result",
          "data": {
            "text/plain": [
              "83.75"
            ]
          },
          "metadata": {},
          "execution_count": 86
        }
      ]
    },
    {
      "cell_type": "code",
      "source": [
        "data_set"
      ],
      "metadata": {
        "colab": {
          "base_uri": "https://localhost:8080/"
        },
        "id": "y3aFTNVSGdaC",
        "outputId": "844e303d-bab1-40c2-da3f-bcdc0cd0250f"
      },
      "execution_count": 87,
      "outputs": [
        {
          "output_type": "execute_result",
          "data": {
            "text/plain": [
              "array([ 1.461   ,  1.43    ,  1.39    , ..., 66.580002, 66.699997,\n",
              "       67.519997])"
            ]
          },
          "metadata": {},
          "execution_count": 87
        }
      ]
    },
    {
      "cell_type": "code",
      "source": [
        "data_set.shape"
      ],
      "metadata": {
        "colab": {
          "base_uri": "https://localhost:8080/"
        },
        "id": "JRx8prMu_k20",
        "outputId": "2acb3a7a-b631-49fb-a06b-6745ea39ee19"
      },
      "execution_count": 88,
      "outputs": [
        {
          "output_type": "execute_result",
          "data": {
            "text/plain": [
              "(5296,)"
            ]
          },
          "metadata": {},
          "execution_count": 88
        }
      ]
    },
    {
      "cell_type": "code",
      "source": [
        "data_set=data_set.reshape(-1,1)"
      ],
      "metadata": {
        "id": "kl4XJO_fDzi3"
      },
      "execution_count": 89,
      "outputs": []
    },
    {
      "cell_type": "code",
      "source": [
        "data_set.shape"
      ],
      "metadata": {
        "id": "R9mv7ey8GiZr",
        "colab": {
          "base_uri": "https://localhost:8080/"
        },
        "outputId": "65bc32a6-d029-4d91-8ac2-f66e000e4773"
      },
      "execution_count": 90,
      "outputs": [
        {
          "output_type": "execute_result",
          "data": {
            "text/plain": [
              "(5296, 1)"
            ]
          },
          "metadata": {},
          "execution_count": 90
        }
      ]
    },
    {
      "cell_type": "code",
      "source": [
        "data_set"
      ],
      "metadata": {
        "colab": {
          "base_uri": "https://localhost:8080/"
        },
        "id": "YzOdbjqA_uUD",
        "outputId": "a28df046-f857-4c33-8503-73a5214f6bbd"
      },
      "execution_count": 91,
      "outputs": [
        {
          "output_type": "execute_result",
          "data": {
            "text/plain": [
              "array([[ 1.461   ],\n",
              "       [ 1.43    ],\n",
              "       [ 1.39    ],\n",
              "       ...,\n",
              "       [66.580002],\n",
              "       [66.699997],\n",
              "       [67.519997]])"
            ]
          },
          "metadata": {},
          "execution_count": 91
        }
      ]
    },
    {
      "cell_type": "code",
      "source": [
        "# Two Things - \n",
        "# 1 Train Test Split - We alsways split the data by Time Basis ( Dont use train_test_split code)\n",
        "# 2.You need to know that todays price depends on how many previous days/month ( depends on your time taken)\n"
      ],
      "metadata": {
        "id": "3J05DzGjD1rY"
      },
      "execution_count": 92,
      "outputs": []
    },
    {
      "cell_type": "code",
      "source": [
        "# standardized the Data\n",
        "scaler=MinMaxScaler(feature_range=(0,1))\n",
        "\n",
        "scaled_data=scaler.fit_transform(data_set)\n",
        "scaled_data"
      ],
      "metadata": {
        "id": "50Jl00lnFnv9",
        "colab": {
          "base_uri": "https://localhost:8080/"
        },
        "outputId": "6af10097-5f93-4fb0-c9d8-212c9e0ea366"
      },
      "execution_count": 93,
      "outputs": [
        {
          "output_type": "execute_result",
          "data": {
            "text/plain": [
              "array([[0.00301679],\n",
              "       [0.00264121],\n",
              "       [0.00215658],\n",
              "       ...,\n",
              "       [0.79197463],\n",
              "       [0.79342845],\n",
              "       [0.80336326]])"
            ]
          },
          "metadata": {},
          "execution_count": 93
        }
      ]
    },
    {
      "cell_type": "code",
      "source": [
        "train_index=math.ceil(len(data_set)*.9)\n",
        "train_index"
      ],
      "metadata": {
        "colab": {
          "base_uri": "https://localhost:8080/"
        },
        "id": "t7Pjup8KES-l",
        "outputId": "5360d510-063e-40c3-8097-55b586310a09"
      },
      "execution_count": 94,
      "outputs": [
        {
          "output_type": "execute_result",
          "data": {
            "text/plain": [
              "4767"
            ]
          },
          "metadata": {},
          "execution_count": 94
        }
      ]
    },
    {
      "cell_type": "code",
      "source": [
        "train_data=scaled_data[:train_index, :]\n",
        "test_data=scaled_data[train_index:, :]\n",
        "# test_data"
      ],
      "metadata": {
        "id": "UlcsIMJ7E3TD"
      },
      "execution_count": 95,
      "outputs": []
    },
    {
      "cell_type": "code",
      "source": [
        "train_data.shape"
      ],
      "metadata": {
        "colab": {
          "base_uri": "https://localhost:8080/"
        },
        "id": "_6bypYtjHLaY",
        "outputId": "929c9389-44d5-41bc-81d5-cc69f9fb2ba0"
      },
      "execution_count": 96,
      "outputs": [
        {
          "output_type": "execute_result",
          "data": {
            "text/plain": [
              "(4767, 1)"
            ]
          },
          "metadata": {},
          "execution_count": 96
        }
      ]
    },
    {
      "cell_type": "code",
      "source": [
        "test_data.shape"
      ],
      "metadata": {
        "colab": {
          "base_uri": "https://localhost:8080/"
        },
        "id": "CAOVY75IHWk-",
        "outputId": "db968538-f2dc-4ef6-dd12-dd48b59724e7"
      },
      "execution_count": 97,
      "outputs": [
        {
          "output_type": "execute_result",
          "data": {
            "text/plain": [
              "(529, 1)"
            ]
          },
          "metadata": {},
          "execution_count": 97
        }
      ]
    },
    {
      "cell_type": "code",
      "source": [
        "# for i in range(10, 100):\n",
        "#   print(train_data[i-10: i, :])"
      ],
      "metadata": {
        "id": "r6ROan09GNFT"
      },
      "execution_count": 98,
      "outputs": []
    },
    {
      "cell_type": "code",
      "source": [
        "X_train=[]\n",
        "y_train=[]\n",
        "\n",
        "for i in range(60, len(train_data)):\n",
        "  X_train.append(train_data[i-60:i,0])\n",
        "  y_train.append(train_data[i,0])"
      ],
      "metadata": {
        "id": "Ch81c2U7HZED"
      },
      "execution_count": 99,
      "outputs": []
    },
    {
      "cell_type": "code",
      "source": [
        "x_train, y_train=np.array(X_train), np.array(y_train)"
      ],
      "metadata": {
        "id": "Mp_6uybyIjR7"
      },
      "execution_count": 100,
      "outputs": []
    },
    {
      "cell_type": "code",
      "source": [
        "x_train.shape"
      ],
      "metadata": {
        "colab": {
          "base_uri": "https://localhost:8080/"
        },
        "id": "mT-jQR-RIs3X",
        "outputId": "9cb35206-8e2b-4a40-999a-a7d402ccda29"
      },
      "execution_count": 101,
      "outputs": [
        {
          "output_type": "execute_result",
          "data": {
            "text/plain": [
              "(4707, 60)"
            ]
          },
          "metadata": {},
          "execution_count": 101
        }
      ]
    },
    {
      "cell_type": "code",
      "source": [
        "# pd.DataFrame(x_train)\n",
        "# pd.DataFrame(x_train)"
      ],
      "metadata": {
        "id": "xeJUUK3IIvDQ"
      },
      "execution_count": 102,
      "outputs": []
    },
    {
      "cell_type": "code",
      "source": [
        "# Here we are reshaping the data into the shape accepted by the LSTM\n",
        "x_train = np.reshape(x_train, (x_train.shape[0],x_train.shape[1],1))"
      ],
      "metadata": {
        "id": "OxUM511vJA9C"
      },
      "execution_count": 103,
      "outputs": []
    },
    {
      "cell_type": "code",
      "source": [
        "x_train.shape "
      ],
      "metadata": {
        "colab": {
          "base_uri": "https://localhost:8080/"
        },
        "id": "qkdJTFVtMV2c",
        "outputId": "5843adaa-b007-4f82-9322-4500c2317b6d"
      },
      "execution_count": 104,
      "outputs": [
        {
          "output_type": "execute_result",
          "data": {
            "text/plain": [
              "(4707, 60, 1)"
            ]
          },
          "metadata": {},
          "execution_count": 104
        }
      ]
    },
    {
      "cell_type": "code",
      "source": [
        "model=Sequential()\n",
        "model.add(LSTM(units=50,return_sequences=True, activation=\"linear\", input_shape=(60,1)))\n",
        "model.add(LSTM(units=50,return_sequences=True ,activation=\"linear\",))\n",
        "model.add(LSTM(units=100,return_sequences=False, activation=\"linear\", ))\n",
        "model.add(Dense(units=10, activation=\"linear\",))\n",
        "model.add(Dense(units=1, activation=\"linear\"))"
      ],
      "metadata": {
        "id": "mIdQ5HKkMeax",
        "colab": {
          "base_uri": "https://localhost:8080/"
        },
        "outputId": "0cdbf242-bb75-46ca-8bee-186f1db2f487"
      },
      "execution_count": 105,
      "outputs": [
        {
          "output_type": "stream",
          "name": "stderr",
          "text": [
            "WARNING:tensorflow:Layer lstm_3 will not use cuDNN kernels since it doesn't meet the criteria. It will use a generic GPU kernel as fallback when running on GPU.\n",
            "WARNING:tensorflow:Layer lstm_4 will not use cuDNN kernels since it doesn't meet the criteria. It will use a generic GPU kernel as fallback when running on GPU.\n",
            "WARNING:tensorflow:Layer lstm_5 will not use cuDNN kernels since it doesn't meet the criteria. It will use a generic GPU kernel as fallback when running on GPU.\n"
          ]
        }
      ]
    },
    {
      "cell_type": "code",
      "source": [
        "model.compile(optimizer=\"rmsprop\", loss=\"mean_squared_error\")"
      ],
      "metadata": {
        "id": "TvlIBpbtNP7v"
      },
      "execution_count": 106,
      "outputs": []
    },
    {
      "cell_type": "code",
      "source": [
        "model.summary()"
      ],
      "metadata": {
        "id": "KcbDK04mNYcR",
        "colab": {
          "base_uri": "https://localhost:8080/"
        },
        "outputId": "2d51ab8c-bf59-4df9-f542-fc239f92ddd9"
      },
      "execution_count": 107,
      "outputs": [
        {
          "output_type": "stream",
          "name": "stdout",
          "text": [
            "Model: \"sequential_1\"\n",
            "_________________________________________________________________\n",
            " Layer (type)                Output Shape              Param #   \n",
            "=================================================================\n",
            " lstm_3 (LSTM)               (None, 60, 50)            10400     \n",
            "                                                                 \n",
            " lstm_4 (LSTM)               (None, 60, 50)            20200     \n",
            "                                                                 \n",
            " lstm_5 (LSTM)               (None, 100)               60400     \n",
            "                                                                 \n",
            " dense_2 (Dense)             (None, 10)                1010      \n",
            "                                                                 \n",
            " dense_3 (Dense)             (None, 1)                 11        \n",
            "                                                                 \n",
            "=================================================================\n",
            "Total params: 92,021\n",
            "Trainable params: 92,021\n",
            "Non-trainable params: 0\n",
            "_________________________________________________________________\n"
          ]
        }
      ]
    },
    {
      "cell_type": "code",
      "source": [
        "model.fit(x_train, y_train, batch_size=20, epochs=15)"
      ],
      "metadata": {
        "colab": {
          "base_uri": "https://localhost:8080/"
        },
        "id": "Al6aSZ3rNjGO",
        "outputId": "9bfc2a12-5780-4e12-9aaa-8686ac6bbe6d"
      },
      "execution_count": 108,
      "outputs": [
        {
          "output_type": "stream",
          "name": "stdout",
          "text": [
            "Epoch 1/15\n",
            "236/236 [==============================] - 68s 275ms/step - loss: 0.0041\n",
            "Epoch 2/15\n",
            "236/236 [==============================] - 63s 266ms/step - loss: 0.0012\n",
            "Epoch 3/15\n",
            "236/236 [==============================] - 62s 264ms/step - loss: 8.3681e-04\n",
            "Epoch 4/15\n",
            "236/236 [==============================] - 64s 270ms/step - loss: 5.9159e-04\n",
            "Epoch 5/15\n",
            "236/236 [==============================] - 63s 266ms/step - loss: 4.5794e-04\n",
            "Epoch 6/15\n",
            "236/236 [==============================] - 62s 263ms/step - loss: 3.7542e-04\n",
            "Epoch 7/15\n",
            "236/236 [==============================] - 63s 268ms/step - loss: 3.4380e-04\n",
            "Epoch 8/15\n",
            "236/236 [==============================] - 62s 262ms/step - loss: 3.0718e-04\n",
            "Epoch 9/15\n",
            "236/236 [==============================] - 62s 262ms/step - loss: 2.8685e-04\n",
            "Epoch 10/15\n",
            "236/236 [==============================] - 63s 267ms/step - loss: 2.5470e-04\n",
            "Epoch 11/15\n",
            "236/236 [==============================] - 62s 262ms/step - loss: 2.3832e-04\n",
            "Epoch 12/15\n",
            "236/236 [==============================] - 62s 262ms/step - loss: 2.1291e-04\n",
            "Epoch 13/15\n",
            "236/236 [==============================] - 63s 267ms/step - loss: 2.1525e-04\n",
            "Epoch 14/15\n",
            "236/236 [==============================] - 62s 264ms/step - loss: 2.0992e-04\n",
            "Epoch 15/15\n",
            "236/236 [==============================] - 62s 262ms/step - loss: 1.8694e-04\n"
          ]
        },
        {
          "output_type": "execute_result",
          "data": {
            "text/plain": [
              "<keras.callbacks.History at 0x7fc72b10e6d0>"
            ]
          },
          "metadata": {},
          "execution_count": 108
        }
      ]
    },
    {
      "cell_type": "code",
      "source": [
        "# here we are testing data set\n",
        "test_data = scaled_data[train_index - 60: , : ]\n",
        "x_test = []\n",
        "y_test =  data_set[train_index : , : ] #Get all of the rows from index 1603 to the rest and all of the columns (in this case it's only column 'Close'), so 2003 - 1603 = 400 rows of data\n",
        "for i in range(60,len(test_data)):\n",
        "    x_test.append(test_data[i-60:i,0])"
      ],
      "metadata": {
        "id": "2q7a7qRyN5TM"
      },
      "execution_count": 109,
      "outputs": []
    },
    {
      "cell_type": "code",
      "source": [
        "test_data.shape "
      ],
      "metadata": {
        "colab": {
          "base_uri": "https://localhost:8080/"
        },
        "id": "8ePn2rqtVG9J",
        "outputId": "a3cdc570-c5ef-4f3d-a5bf-f98841c3d363"
      },
      "execution_count": 110,
      "outputs": [
        {
          "output_type": "execute_result",
          "data": {
            "text/plain": [
              "(589, 1)"
            ]
          },
          "metadata": {},
          "execution_count": 110
        }
      ]
    },
    {
      "cell_type": "code",
      "source": [
        "x_test = np.array(x_test)"
      ],
      "metadata": {
        "id": "nfuh4Mf5Qv-R"
      },
      "execution_count": 111,
      "outputs": []
    },
    {
      "cell_type": "code",
      "source": [
        "# here we are reshaping the data into the shape accepted by the LSTM  \n",
        "x_test = np.reshape(x_test, (x_test.shape[0],x_test.shape[1],1))"
      ],
      "metadata": {
        "id": "7oxpagkLQzCe"
      },
      "execution_count": 112,
      "outputs": []
    },
    {
      "cell_type": "code",
      "source": [
        "# now we are getting the models predicted price values\n",
        "predictions = model.predict(x_test) \n",
        "predictions = scaler.inverse_transform(predictions)#Undo scaling"
      ],
      "metadata": {
        "colab": {
          "base_uri": "https://localhost:8080/"
        },
        "id": "_VEuEDakQ10C",
        "outputId": "740d0ffa-99ba-43dc-af39-40f40bc19cec"
      },
      "execution_count": 113,
      "outputs": [
        {
          "output_type": "stream",
          "name": "stdout",
          "text": [
            "17/17 [==============================] - 1s 22ms/step\n"
          ]
        }
      ]
    },
    {
      "cell_type": "code",
      "source": [
        "# predictions\n",
        "pred=pd.DataFrame(predictions)\n",
        "pred.columns=[\"Precicted_value\"]\n",
        "pred.tail()"
      ],
      "metadata": {
        "colab": {
          "base_uri": "https://localhost:8080/",
          "height": 206
        },
        "id": "L4IKlLn7Q38L",
        "outputId": "f1be4311-e2a0-4f18-cb00-b555dad7844a"
      },
      "execution_count": 114,
      "outputs": [
        {
          "output_type": "execute_result",
          "data": {
            "text/plain": [
              "     Precicted_value\n",
              "524        63.844780\n",
              "525        63.677944\n",
              "526        61.707882\n",
              "527        63.204300\n",
              "528        63.042698"
            ],
            "text/html": [
              "\n",
              "  <div id=\"df-6ae08412-3c81-49d1-8dcf-1573d25a0d6c\">\n",
              "    <div class=\"colab-df-container\">\n",
              "      <div>\n",
              "<style scoped>\n",
              "    .dataframe tbody tr th:only-of-type {\n",
              "        vertical-align: middle;\n",
              "    }\n",
              "\n",
              "    .dataframe tbody tr th {\n",
              "        vertical-align: top;\n",
              "    }\n",
              "\n",
              "    .dataframe thead th {\n",
              "        text-align: right;\n",
              "    }\n",
              "</style>\n",
              "<table border=\"1\" class=\"dataframe\">\n",
              "  <thead>\n",
              "    <tr style=\"text-align: right;\">\n",
              "      <th></th>\n",
              "      <th>Precicted_value</th>\n",
              "    </tr>\n",
              "  </thead>\n",
              "  <tbody>\n",
              "    <tr>\n",
              "      <th>524</th>\n",
              "      <td>63.844780</td>\n",
              "    </tr>\n",
              "    <tr>\n",
              "      <th>525</th>\n",
              "      <td>63.677944</td>\n",
              "    </tr>\n",
              "    <tr>\n",
              "      <th>526</th>\n",
              "      <td>61.707882</td>\n",
              "    </tr>\n",
              "    <tr>\n",
              "      <th>527</th>\n",
              "      <td>63.204300</td>\n",
              "    </tr>\n",
              "    <tr>\n",
              "      <th>528</th>\n",
              "      <td>63.042698</td>\n",
              "    </tr>\n",
              "  </tbody>\n",
              "</table>\n",
              "</div>\n",
              "      <button class=\"colab-df-convert\" onclick=\"convertToInteractive('df-6ae08412-3c81-49d1-8dcf-1573d25a0d6c')\"\n",
              "              title=\"Convert this dataframe to an interactive table.\"\n",
              "              style=\"display:none;\">\n",
              "        \n",
              "  <svg xmlns=\"http://www.w3.org/2000/svg\" height=\"24px\"viewBox=\"0 0 24 24\"\n",
              "       width=\"24px\">\n",
              "    <path d=\"M0 0h24v24H0V0z\" fill=\"none\"/>\n",
              "    <path d=\"M18.56 5.44l.94 2.06.94-2.06 2.06-.94-2.06-.94-.94-2.06-.94 2.06-2.06.94zm-11 1L8.5 8.5l.94-2.06 2.06-.94-2.06-.94L8.5 2.5l-.94 2.06-2.06.94zm10 10l.94 2.06.94-2.06 2.06-.94-2.06-.94-.94-2.06-.94 2.06-2.06.94z\"/><path d=\"M17.41 7.96l-1.37-1.37c-.4-.4-.92-.59-1.43-.59-.52 0-1.04.2-1.43.59L10.3 9.45l-7.72 7.72c-.78.78-.78 2.05 0 2.83L4 21.41c.39.39.9.59 1.41.59.51 0 1.02-.2 1.41-.59l7.78-7.78 2.81-2.81c.8-.78.8-2.07 0-2.86zM5.41 20L4 18.59l7.72-7.72 1.47 1.35L5.41 20z\"/>\n",
              "  </svg>\n",
              "      </button>\n",
              "      \n",
              "  <style>\n",
              "    .colab-df-container {\n",
              "      display:flex;\n",
              "      flex-wrap:wrap;\n",
              "      gap: 12px;\n",
              "    }\n",
              "\n",
              "    .colab-df-convert {\n",
              "      background-color: #E8F0FE;\n",
              "      border: none;\n",
              "      border-radius: 50%;\n",
              "      cursor: pointer;\n",
              "      display: none;\n",
              "      fill: #1967D2;\n",
              "      height: 32px;\n",
              "      padding: 0 0 0 0;\n",
              "      width: 32px;\n",
              "    }\n",
              "\n",
              "    .colab-df-convert:hover {\n",
              "      background-color: #E2EBFA;\n",
              "      box-shadow: 0px 1px 2px rgba(60, 64, 67, 0.3), 0px 1px 3px 1px rgba(60, 64, 67, 0.15);\n",
              "      fill: #174EA6;\n",
              "    }\n",
              "\n",
              "    [theme=dark] .colab-df-convert {\n",
              "      background-color: #3B4455;\n",
              "      fill: #D2E3FC;\n",
              "    }\n",
              "\n",
              "    [theme=dark] .colab-df-convert:hover {\n",
              "      background-color: #434B5C;\n",
              "      box-shadow: 0px 1px 3px 1px rgba(0, 0, 0, 0.15);\n",
              "      filter: drop-shadow(0px 1px 2px rgba(0, 0, 0, 0.3));\n",
              "      fill: #FFFFFF;\n",
              "    }\n",
              "  </style>\n",
              "\n",
              "      <script>\n",
              "        const buttonEl =\n",
              "          document.querySelector('#df-6ae08412-3c81-49d1-8dcf-1573d25a0d6c button.colab-df-convert');\n",
              "        buttonEl.style.display =\n",
              "          google.colab.kernel.accessAllowed ? 'block' : 'none';\n",
              "\n",
              "        async function convertToInteractive(key) {\n",
              "          const element = document.querySelector('#df-6ae08412-3c81-49d1-8dcf-1573d25a0d6c');\n",
              "          const dataTable =\n",
              "            await google.colab.kernel.invokeFunction('convertToInteractive',\n",
              "                                                     [key], {});\n",
              "          if (!dataTable) return;\n",
              "\n",
              "          const docLinkHtml = 'Like what you see? Visit the ' +\n",
              "            '<a target=\"_blank\" href=https://colab.research.google.com/notebooks/data_table.ipynb>data table notebook</a>'\n",
              "            + ' to learn more about interactive tables.';\n",
              "          element.innerHTML = '';\n",
              "          dataTable['output_type'] = 'display_data';\n",
              "          await google.colab.output.renderOutput(dataTable, element);\n",
              "          const docLink = document.createElement('div');\n",
              "          docLink.innerHTML = docLinkHtml;\n",
              "          element.appendChild(docLink);\n",
              "        }\n",
              "      </script>\n",
              "    </div>\n",
              "  </div>\n",
              "  "
            ]
          },
          "metadata": {},
          "execution_count": 114
        }
      ]
    },
    {
      "cell_type": "code",
      "source": [
        "df.tail()"
      ],
      "metadata": {
        "colab": {
          "base_uri": "https://localhost:8080/",
          "height": 206
        },
        "id": "moDZh58VJpu6",
        "outputId": "b636de86-2473-4e40-c4c0-9a4581fd4638"
      },
      "execution_count": 115,
      "outputs": [
        {
          "output_type": "execute_result",
          "data": {
            "text/plain": [
              "            Date       Open       High        Low      Close  Adj Close  \\\n",
              "5291  2023-01-09  67.589996  67.959999  66.559998  67.400002  67.400002   \n",
              "5292  2023-01-10  67.099998  67.120003  65.230003  65.580002  65.580002   \n",
              "5293  2023-01-11  65.940002  66.849998  65.360001  66.580002  66.580002   \n",
              "5294  2023-01-12  67.139999  67.139999  66.349998  66.699997  66.699997   \n",
              "5295  2023-01-13  66.360001  67.809998  66.290001  67.519997  67.519997   \n",
              "\n",
              "       Volume  \n",
              "5291  1027000  \n",
              "5292  1356200  \n",
              "5293  1166100  \n",
              "5294  1251200  \n",
              "5295   959800  "
            ],
            "text/html": [
              "\n",
              "  <div id=\"df-10dd7802-28ab-4827-8af0-982d771ffd66\">\n",
              "    <div class=\"colab-df-container\">\n",
              "      <div>\n",
              "<style scoped>\n",
              "    .dataframe tbody tr th:only-of-type {\n",
              "        vertical-align: middle;\n",
              "    }\n",
              "\n",
              "    .dataframe tbody tr th {\n",
              "        vertical-align: top;\n",
              "    }\n",
              "\n",
              "    .dataframe thead th {\n",
              "        text-align: right;\n",
              "    }\n",
              "</style>\n",
              "<table border=\"1\" class=\"dataframe\">\n",
              "  <thead>\n",
              "    <tr style=\"text-align: right;\">\n",
              "      <th></th>\n",
              "      <th>Date</th>\n",
              "      <th>Open</th>\n",
              "      <th>High</th>\n",
              "      <th>Low</th>\n",
              "      <th>Close</th>\n",
              "      <th>Adj Close</th>\n",
              "      <th>Volume</th>\n",
              "    </tr>\n",
              "  </thead>\n",
              "  <tbody>\n",
              "    <tr>\n",
              "      <th>5291</th>\n",
              "      <td>2023-01-09</td>\n",
              "      <td>67.589996</td>\n",
              "      <td>67.959999</td>\n",
              "      <td>66.559998</td>\n",
              "      <td>67.400002</td>\n",
              "      <td>67.400002</td>\n",
              "      <td>1027000</td>\n",
              "    </tr>\n",
              "    <tr>\n",
              "      <th>5292</th>\n",
              "      <td>2023-01-10</td>\n",
              "      <td>67.099998</td>\n",
              "      <td>67.120003</td>\n",
              "      <td>65.230003</td>\n",
              "      <td>65.580002</td>\n",
              "      <td>65.580002</td>\n",
              "      <td>1356200</td>\n",
              "    </tr>\n",
              "    <tr>\n",
              "      <th>5293</th>\n",
              "      <td>2023-01-11</td>\n",
              "      <td>65.940002</td>\n",
              "      <td>66.849998</td>\n",
              "      <td>65.360001</td>\n",
              "      <td>66.580002</td>\n",
              "      <td>66.580002</td>\n",
              "      <td>1166100</td>\n",
              "    </tr>\n",
              "    <tr>\n",
              "      <th>5294</th>\n",
              "      <td>2023-01-12</td>\n",
              "      <td>67.139999</td>\n",
              "      <td>67.139999</td>\n",
              "      <td>66.349998</td>\n",
              "      <td>66.699997</td>\n",
              "      <td>66.699997</td>\n",
              "      <td>1251200</td>\n",
              "    </tr>\n",
              "    <tr>\n",
              "      <th>5295</th>\n",
              "      <td>2023-01-13</td>\n",
              "      <td>66.360001</td>\n",
              "      <td>67.809998</td>\n",
              "      <td>66.290001</td>\n",
              "      <td>67.519997</td>\n",
              "      <td>67.519997</td>\n",
              "      <td>959800</td>\n",
              "    </tr>\n",
              "  </tbody>\n",
              "</table>\n",
              "</div>\n",
              "      <button class=\"colab-df-convert\" onclick=\"convertToInteractive('df-10dd7802-28ab-4827-8af0-982d771ffd66')\"\n",
              "              title=\"Convert this dataframe to an interactive table.\"\n",
              "              style=\"display:none;\">\n",
              "        \n",
              "  <svg xmlns=\"http://www.w3.org/2000/svg\" height=\"24px\"viewBox=\"0 0 24 24\"\n",
              "       width=\"24px\">\n",
              "    <path d=\"M0 0h24v24H0V0z\" fill=\"none\"/>\n",
              "    <path d=\"M18.56 5.44l.94 2.06.94-2.06 2.06-.94-2.06-.94-.94-2.06-.94 2.06-2.06.94zm-11 1L8.5 8.5l.94-2.06 2.06-.94-2.06-.94L8.5 2.5l-.94 2.06-2.06.94zm10 10l.94 2.06.94-2.06 2.06-.94-2.06-.94-.94-2.06-.94 2.06-2.06.94z\"/><path d=\"M17.41 7.96l-1.37-1.37c-.4-.4-.92-.59-1.43-.59-.52 0-1.04.2-1.43.59L10.3 9.45l-7.72 7.72c-.78.78-.78 2.05 0 2.83L4 21.41c.39.39.9.59 1.41.59.51 0 1.02-.2 1.41-.59l7.78-7.78 2.81-2.81c.8-.78.8-2.07 0-2.86zM5.41 20L4 18.59l7.72-7.72 1.47 1.35L5.41 20z\"/>\n",
              "  </svg>\n",
              "      </button>\n",
              "      \n",
              "  <style>\n",
              "    .colab-df-container {\n",
              "      display:flex;\n",
              "      flex-wrap:wrap;\n",
              "      gap: 12px;\n",
              "    }\n",
              "\n",
              "    .colab-df-convert {\n",
              "      background-color: #E8F0FE;\n",
              "      border: none;\n",
              "      border-radius: 50%;\n",
              "      cursor: pointer;\n",
              "      display: none;\n",
              "      fill: #1967D2;\n",
              "      height: 32px;\n",
              "      padding: 0 0 0 0;\n",
              "      width: 32px;\n",
              "    }\n",
              "\n",
              "    .colab-df-convert:hover {\n",
              "      background-color: #E2EBFA;\n",
              "      box-shadow: 0px 1px 2px rgba(60, 64, 67, 0.3), 0px 1px 3px 1px rgba(60, 64, 67, 0.15);\n",
              "      fill: #174EA6;\n",
              "    }\n",
              "\n",
              "    [theme=dark] .colab-df-convert {\n",
              "      background-color: #3B4455;\n",
              "      fill: #D2E3FC;\n",
              "    }\n",
              "\n",
              "    [theme=dark] .colab-df-convert:hover {\n",
              "      background-color: #434B5C;\n",
              "      box-shadow: 0px 1px 3px 1px rgba(0, 0, 0, 0.15);\n",
              "      filter: drop-shadow(0px 1px 2px rgba(0, 0, 0, 0.3));\n",
              "      fill: #FFFFFF;\n",
              "    }\n",
              "  </style>\n",
              "\n",
              "      <script>\n",
              "        const buttonEl =\n",
              "          document.querySelector('#df-10dd7802-28ab-4827-8af0-982d771ffd66 button.colab-df-convert');\n",
              "        buttonEl.style.display =\n",
              "          google.colab.kernel.accessAllowed ? 'block' : 'none';\n",
              "\n",
              "        async function convertToInteractive(key) {\n",
              "          const element = document.querySelector('#df-10dd7802-28ab-4827-8af0-982d771ffd66');\n",
              "          const dataTable =\n",
              "            await google.colab.kernel.invokeFunction('convertToInteractive',\n",
              "                                                     [key], {});\n",
              "          if (!dataTable) return;\n",
              "\n",
              "          const docLinkHtml = 'Like what you see? Visit the ' +\n",
              "            '<a target=\"_blank\" href=https://colab.research.google.com/notebooks/data_table.ipynb>data table notebook</a>'\n",
              "            + ' to learn more about interactive tables.';\n",
              "          element.innerHTML = '';\n",
              "          dataTable['output_type'] = 'display_data';\n",
              "          await google.colab.output.renderOutput(dataTable, element);\n",
              "          const docLink = document.createElement('div');\n",
              "          docLink.innerHTML = docLinkHtml;\n",
              "          element.appendChild(docLink);\n",
              "        }\n",
              "      </script>\n",
              "    </div>\n",
              "  </div>\n",
              "  "
            ]
          },
          "metadata": {},
          "execution_count": 115
        }
      ]
    },
    {
      "cell_type": "code",
      "source": [
        "act_test=scaled_data[train_index:, :]"
      ],
      "metadata": {
        "id": "9SW0_qgqJ63F"
      },
      "execution_count": 116,
      "outputs": []
    },
    {
      "cell_type": "code",
      "source": [
        "# act_test"
      ],
      "metadata": {
        "id": "53VocfOXKciK"
      },
      "execution_count": 117,
      "outputs": []
    },
    {
      "cell_type": "code",
      "source": [
        "pred"
      ],
      "metadata": {
        "colab": {
          "base_uri": "https://localhost:8080/",
          "height": 423
        },
        "id": "kcybspN1J3pr",
        "outputId": "8fdc4de4-d6de-4137-9a15-b4946edd4e98"
      },
      "execution_count": 118,
      "outputs": [
        {
          "output_type": "execute_result",
          "data": {
            "text/plain": [
              "     Precicted_value\n",
              "0          63.959751\n",
              "1          63.892960\n",
              "2          63.909599\n",
              "3          63.872345\n",
              "4          63.094620\n",
              "..               ...\n",
              "524        63.844780\n",
              "525        63.677944\n",
              "526        61.707882\n",
              "527        63.204300\n",
              "528        63.042698\n",
              "\n",
              "[529 rows x 1 columns]"
            ],
            "text/html": [
              "\n",
              "  <div id=\"df-545fd2c2-6d67-4847-a0f8-132dbd2d8841\">\n",
              "    <div class=\"colab-df-container\">\n",
              "      <div>\n",
              "<style scoped>\n",
              "    .dataframe tbody tr th:only-of-type {\n",
              "        vertical-align: middle;\n",
              "    }\n",
              "\n",
              "    .dataframe tbody tr th {\n",
              "        vertical-align: top;\n",
              "    }\n",
              "\n",
              "    .dataframe thead th {\n",
              "        text-align: right;\n",
              "    }\n",
              "</style>\n",
              "<table border=\"1\" class=\"dataframe\">\n",
              "  <thead>\n",
              "    <tr style=\"text-align: right;\">\n",
              "      <th></th>\n",
              "      <th>Precicted_value</th>\n",
              "    </tr>\n",
              "  </thead>\n",
              "  <tbody>\n",
              "    <tr>\n",
              "      <th>0</th>\n",
              "      <td>63.959751</td>\n",
              "    </tr>\n",
              "    <tr>\n",
              "      <th>1</th>\n",
              "      <td>63.892960</td>\n",
              "    </tr>\n",
              "    <tr>\n",
              "      <th>2</th>\n",
              "      <td>63.909599</td>\n",
              "    </tr>\n",
              "    <tr>\n",
              "      <th>3</th>\n",
              "      <td>63.872345</td>\n",
              "    </tr>\n",
              "    <tr>\n",
              "      <th>4</th>\n",
              "      <td>63.094620</td>\n",
              "    </tr>\n",
              "    <tr>\n",
              "      <th>...</th>\n",
              "      <td>...</td>\n",
              "    </tr>\n",
              "    <tr>\n",
              "      <th>524</th>\n",
              "      <td>63.844780</td>\n",
              "    </tr>\n",
              "    <tr>\n",
              "      <th>525</th>\n",
              "      <td>63.677944</td>\n",
              "    </tr>\n",
              "    <tr>\n",
              "      <th>526</th>\n",
              "      <td>61.707882</td>\n",
              "    </tr>\n",
              "    <tr>\n",
              "      <th>527</th>\n",
              "      <td>63.204300</td>\n",
              "    </tr>\n",
              "    <tr>\n",
              "      <th>528</th>\n",
              "      <td>63.042698</td>\n",
              "    </tr>\n",
              "  </tbody>\n",
              "</table>\n",
              "<p>529 rows × 1 columns</p>\n",
              "</div>\n",
              "      <button class=\"colab-df-convert\" onclick=\"convertToInteractive('df-545fd2c2-6d67-4847-a0f8-132dbd2d8841')\"\n",
              "              title=\"Convert this dataframe to an interactive table.\"\n",
              "              style=\"display:none;\">\n",
              "        \n",
              "  <svg xmlns=\"http://www.w3.org/2000/svg\" height=\"24px\"viewBox=\"0 0 24 24\"\n",
              "       width=\"24px\">\n",
              "    <path d=\"M0 0h24v24H0V0z\" fill=\"none\"/>\n",
              "    <path d=\"M18.56 5.44l.94 2.06.94-2.06 2.06-.94-2.06-.94-.94-2.06-.94 2.06-2.06.94zm-11 1L8.5 8.5l.94-2.06 2.06-.94-2.06-.94L8.5 2.5l-.94 2.06-2.06.94zm10 10l.94 2.06.94-2.06 2.06-.94-2.06-.94-.94-2.06-.94 2.06-2.06.94z\"/><path d=\"M17.41 7.96l-1.37-1.37c-.4-.4-.92-.59-1.43-.59-.52 0-1.04.2-1.43.59L10.3 9.45l-7.72 7.72c-.78.78-.78 2.05 0 2.83L4 21.41c.39.39.9.59 1.41.59.51 0 1.02-.2 1.41-.59l7.78-7.78 2.81-2.81c.8-.78.8-2.07 0-2.86zM5.41 20L4 18.59l7.72-7.72 1.47 1.35L5.41 20z\"/>\n",
              "  </svg>\n",
              "      </button>\n",
              "      \n",
              "  <style>\n",
              "    .colab-df-container {\n",
              "      display:flex;\n",
              "      flex-wrap:wrap;\n",
              "      gap: 12px;\n",
              "    }\n",
              "\n",
              "    .colab-df-convert {\n",
              "      background-color: #E8F0FE;\n",
              "      border: none;\n",
              "      border-radius: 50%;\n",
              "      cursor: pointer;\n",
              "      display: none;\n",
              "      fill: #1967D2;\n",
              "      height: 32px;\n",
              "      padding: 0 0 0 0;\n",
              "      width: 32px;\n",
              "    }\n",
              "\n",
              "    .colab-df-convert:hover {\n",
              "      background-color: #E2EBFA;\n",
              "      box-shadow: 0px 1px 2px rgba(60, 64, 67, 0.3), 0px 1px 3px 1px rgba(60, 64, 67, 0.15);\n",
              "      fill: #174EA6;\n",
              "    }\n",
              "\n",
              "    [theme=dark] .colab-df-convert {\n",
              "      background-color: #3B4455;\n",
              "      fill: #D2E3FC;\n",
              "    }\n",
              "\n",
              "    [theme=dark] .colab-df-convert:hover {\n",
              "      background-color: #434B5C;\n",
              "      box-shadow: 0px 1px 3px 1px rgba(0, 0, 0, 0.15);\n",
              "      filter: drop-shadow(0px 1px 2px rgba(0, 0, 0, 0.3));\n",
              "      fill: #FFFFFF;\n",
              "    }\n",
              "  </style>\n",
              "\n",
              "      <script>\n",
              "        const buttonEl =\n",
              "          document.querySelector('#df-545fd2c2-6d67-4847-a0f8-132dbd2d8841 button.colab-df-convert');\n",
              "        buttonEl.style.display =\n",
              "          google.colab.kernel.accessAllowed ? 'block' : 'none';\n",
              "\n",
              "        async function convertToInteractive(key) {\n",
              "          const element = document.querySelector('#df-545fd2c2-6d67-4847-a0f8-132dbd2d8841');\n",
              "          const dataTable =\n",
              "            await google.colab.kernel.invokeFunction('convertToInteractive',\n",
              "                                                     [key], {});\n",
              "          if (!dataTable) return;\n",
              "\n",
              "          const docLinkHtml = 'Like what you see? Visit the ' +\n",
              "            '<a target=\"_blank\" href=https://colab.research.google.com/notebooks/data_table.ipynb>data table notebook</a>'\n",
              "            + ' to learn more about interactive tables.';\n",
              "          element.innerHTML = '';\n",
              "          dataTable['output_type'] = 'display_data';\n",
              "          await google.colab.output.renderOutput(dataTable, element);\n",
              "          const docLink = document.createElement('div');\n",
              "          docLink.innerHTML = docLinkHtml;\n",
              "          element.appendChild(docLink);\n",
              "        }\n",
              "      </script>\n",
              "    </div>\n",
              "  </div>\n",
              "  "
            ]
          },
          "metadata": {},
          "execution_count": 118
        }
      ]
    },
    {
      "cell_type": "code",
      "source": [
        "act=pd.DataFrame(y_test)\n",
        "act.columns=[\"Actual_value\"]\n",
        "act.head()"
      ],
      "metadata": {
        "colab": {
          "base_uri": "https://localhost:8080/",
          "height": 206
        },
        "id": "RWbo9lfHQ6QP",
        "outputId": "70a151ab-0f68-4cec-d143-947dc1275162"
      },
      "execution_count": 119,
      "outputs": [
        {
          "output_type": "execute_result",
          "data": {
            "text/plain": [
              "   Actual_value\n",
              "0     67.379997\n",
              "1     67.449997\n",
              "2     67.470001\n",
              "3     66.760002\n",
              "4     66.599998"
            ],
            "text/html": [
              "\n",
              "  <div id=\"df-9ca60f1d-9119-4e07-b1e5-182e2db6dffa\">\n",
              "    <div class=\"colab-df-container\">\n",
              "      <div>\n",
              "<style scoped>\n",
              "    .dataframe tbody tr th:only-of-type {\n",
              "        vertical-align: middle;\n",
              "    }\n",
              "\n",
              "    .dataframe tbody tr th {\n",
              "        vertical-align: top;\n",
              "    }\n",
              "\n",
              "    .dataframe thead th {\n",
              "        text-align: right;\n",
              "    }\n",
              "</style>\n",
              "<table border=\"1\" class=\"dataframe\">\n",
              "  <thead>\n",
              "    <tr style=\"text-align: right;\">\n",
              "      <th></th>\n",
              "      <th>Actual_value</th>\n",
              "    </tr>\n",
              "  </thead>\n",
              "  <tbody>\n",
              "    <tr>\n",
              "      <th>0</th>\n",
              "      <td>67.379997</td>\n",
              "    </tr>\n",
              "    <tr>\n",
              "      <th>1</th>\n",
              "      <td>67.449997</td>\n",
              "    </tr>\n",
              "    <tr>\n",
              "      <th>2</th>\n",
              "      <td>67.470001</td>\n",
              "    </tr>\n",
              "    <tr>\n",
              "      <th>3</th>\n",
              "      <td>66.760002</td>\n",
              "    </tr>\n",
              "    <tr>\n",
              "      <th>4</th>\n",
              "      <td>66.599998</td>\n",
              "    </tr>\n",
              "  </tbody>\n",
              "</table>\n",
              "</div>\n",
              "      <button class=\"colab-df-convert\" onclick=\"convertToInteractive('df-9ca60f1d-9119-4e07-b1e5-182e2db6dffa')\"\n",
              "              title=\"Convert this dataframe to an interactive table.\"\n",
              "              style=\"display:none;\">\n",
              "        \n",
              "  <svg xmlns=\"http://www.w3.org/2000/svg\" height=\"24px\"viewBox=\"0 0 24 24\"\n",
              "       width=\"24px\">\n",
              "    <path d=\"M0 0h24v24H0V0z\" fill=\"none\"/>\n",
              "    <path d=\"M18.56 5.44l.94 2.06.94-2.06 2.06-.94-2.06-.94-.94-2.06-.94 2.06-2.06.94zm-11 1L8.5 8.5l.94-2.06 2.06-.94-2.06-.94L8.5 2.5l-.94 2.06-2.06.94zm10 10l.94 2.06.94-2.06 2.06-.94-2.06-.94-.94-2.06-.94 2.06-2.06.94z\"/><path d=\"M17.41 7.96l-1.37-1.37c-.4-.4-.92-.59-1.43-.59-.52 0-1.04.2-1.43.59L10.3 9.45l-7.72 7.72c-.78.78-.78 2.05 0 2.83L4 21.41c.39.39.9.59 1.41.59.51 0 1.02-.2 1.41-.59l7.78-7.78 2.81-2.81c.8-.78.8-2.07 0-2.86zM5.41 20L4 18.59l7.72-7.72 1.47 1.35L5.41 20z\"/>\n",
              "  </svg>\n",
              "      </button>\n",
              "      \n",
              "  <style>\n",
              "    .colab-df-container {\n",
              "      display:flex;\n",
              "      flex-wrap:wrap;\n",
              "      gap: 12px;\n",
              "    }\n",
              "\n",
              "    .colab-df-convert {\n",
              "      background-color: #E8F0FE;\n",
              "      border: none;\n",
              "      border-radius: 50%;\n",
              "      cursor: pointer;\n",
              "      display: none;\n",
              "      fill: #1967D2;\n",
              "      height: 32px;\n",
              "      padding: 0 0 0 0;\n",
              "      width: 32px;\n",
              "    }\n",
              "\n",
              "    .colab-df-convert:hover {\n",
              "      background-color: #E2EBFA;\n",
              "      box-shadow: 0px 1px 2px rgba(60, 64, 67, 0.3), 0px 1px 3px 1px rgba(60, 64, 67, 0.15);\n",
              "      fill: #174EA6;\n",
              "    }\n",
              "\n",
              "    [theme=dark] .colab-df-convert {\n",
              "      background-color: #3B4455;\n",
              "      fill: #D2E3FC;\n",
              "    }\n",
              "\n",
              "    [theme=dark] .colab-df-convert:hover {\n",
              "      background-color: #434B5C;\n",
              "      box-shadow: 0px 1px 3px 1px rgba(0, 0, 0, 0.15);\n",
              "      filter: drop-shadow(0px 1px 2px rgba(0, 0, 0, 0.3));\n",
              "      fill: #FFFFFF;\n",
              "    }\n",
              "  </style>\n",
              "\n",
              "      <script>\n",
              "        const buttonEl =\n",
              "          document.querySelector('#df-9ca60f1d-9119-4e07-b1e5-182e2db6dffa button.colab-df-convert');\n",
              "        buttonEl.style.display =\n",
              "          google.colab.kernel.accessAllowed ? 'block' : 'none';\n",
              "\n",
              "        async function convertToInteractive(key) {\n",
              "          const element = document.querySelector('#df-9ca60f1d-9119-4e07-b1e5-182e2db6dffa');\n",
              "          const dataTable =\n",
              "            await google.colab.kernel.invokeFunction('convertToInteractive',\n",
              "                                                     [key], {});\n",
              "          if (!dataTable) return;\n",
              "\n",
              "          const docLinkHtml = 'Like what you see? Visit the ' +\n",
              "            '<a target=\"_blank\" href=https://colab.research.google.com/notebooks/data_table.ipynb>data table notebook</a>'\n",
              "            + ' to learn more about interactive tables.';\n",
              "          element.innerHTML = '';\n",
              "          dataTable['output_type'] = 'display_data';\n",
              "          await google.colab.output.renderOutput(dataTable, element);\n",
              "          const docLink = document.createElement('div');\n",
              "          docLink.innerHTML = docLinkHtml;\n",
              "          element.appendChild(docLink);\n",
              "        }\n",
              "      </script>\n",
              "    </div>\n",
              "  </div>\n",
              "  "
            ]
          },
          "metadata": {},
          "execution_count": 119
        }
      ]
    },
    {
      "cell_type": "code",
      "source": [
        "pd.concat([act, pred],axis=1).tail()"
      ],
      "metadata": {
        "colab": {
          "base_uri": "https://localhost:8080/",
          "height": 206
        },
        "id": "8UQ9l28_SBe8",
        "outputId": "a7016b76-743d-4dac-e79c-cd563e8be48a"
      },
      "execution_count": 120,
      "outputs": [
        {
          "output_type": "execute_result",
          "data": {
            "text/plain": [
              "     Actual_value  Precicted_value\n",
              "524     67.400002        63.844780\n",
              "525     65.580002        63.677944\n",
              "526     66.580002        61.707882\n",
              "527     66.699997        63.204300\n",
              "528     67.519997        63.042698"
            ],
            "text/html": [
              "\n",
              "  <div id=\"df-34494658-70d6-4328-a1a8-8e6a6f4cf2a7\">\n",
              "    <div class=\"colab-df-container\">\n",
              "      <div>\n",
              "<style scoped>\n",
              "    .dataframe tbody tr th:only-of-type {\n",
              "        vertical-align: middle;\n",
              "    }\n",
              "\n",
              "    .dataframe tbody tr th {\n",
              "        vertical-align: top;\n",
              "    }\n",
              "\n",
              "    .dataframe thead th {\n",
              "        text-align: right;\n",
              "    }\n",
              "</style>\n",
              "<table border=\"1\" class=\"dataframe\">\n",
              "  <thead>\n",
              "    <tr style=\"text-align: right;\">\n",
              "      <th></th>\n",
              "      <th>Actual_value</th>\n",
              "      <th>Precicted_value</th>\n",
              "    </tr>\n",
              "  </thead>\n",
              "  <tbody>\n",
              "    <tr>\n",
              "      <th>524</th>\n",
              "      <td>67.400002</td>\n",
              "      <td>63.844780</td>\n",
              "    </tr>\n",
              "    <tr>\n",
              "      <th>525</th>\n",
              "      <td>65.580002</td>\n",
              "      <td>63.677944</td>\n",
              "    </tr>\n",
              "    <tr>\n",
              "      <th>526</th>\n",
              "      <td>66.580002</td>\n",
              "      <td>61.707882</td>\n",
              "    </tr>\n",
              "    <tr>\n",
              "      <th>527</th>\n",
              "      <td>66.699997</td>\n",
              "      <td>63.204300</td>\n",
              "    </tr>\n",
              "    <tr>\n",
              "      <th>528</th>\n",
              "      <td>67.519997</td>\n",
              "      <td>63.042698</td>\n",
              "    </tr>\n",
              "  </tbody>\n",
              "</table>\n",
              "</div>\n",
              "      <button class=\"colab-df-convert\" onclick=\"convertToInteractive('df-34494658-70d6-4328-a1a8-8e6a6f4cf2a7')\"\n",
              "              title=\"Convert this dataframe to an interactive table.\"\n",
              "              style=\"display:none;\">\n",
              "        \n",
              "  <svg xmlns=\"http://www.w3.org/2000/svg\" height=\"24px\"viewBox=\"0 0 24 24\"\n",
              "       width=\"24px\">\n",
              "    <path d=\"M0 0h24v24H0V0z\" fill=\"none\"/>\n",
              "    <path d=\"M18.56 5.44l.94 2.06.94-2.06 2.06-.94-2.06-.94-.94-2.06-.94 2.06-2.06.94zm-11 1L8.5 8.5l.94-2.06 2.06-.94-2.06-.94L8.5 2.5l-.94 2.06-2.06.94zm10 10l.94 2.06.94-2.06 2.06-.94-2.06-.94-.94-2.06-.94 2.06-2.06.94z\"/><path d=\"M17.41 7.96l-1.37-1.37c-.4-.4-.92-.59-1.43-.59-.52 0-1.04.2-1.43.59L10.3 9.45l-7.72 7.72c-.78.78-.78 2.05 0 2.83L4 21.41c.39.39.9.59 1.41.59.51 0 1.02-.2 1.41-.59l7.78-7.78 2.81-2.81c.8-.78.8-2.07 0-2.86zM5.41 20L4 18.59l7.72-7.72 1.47 1.35L5.41 20z\"/>\n",
              "  </svg>\n",
              "      </button>\n",
              "      \n",
              "  <style>\n",
              "    .colab-df-container {\n",
              "      display:flex;\n",
              "      flex-wrap:wrap;\n",
              "      gap: 12px;\n",
              "    }\n",
              "\n",
              "    .colab-df-convert {\n",
              "      background-color: #E8F0FE;\n",
              "      border: none;\n",
              "      border-radius: 50%;\n",
              "      cursor: pointer;\n",
              "      display: none;\n",
              "      fill: #1967D2;\n",
              "      height: 32px;\n",
              "      padding: 0 0 0 0;\n",
              "      width: 32px;\n",
              "    }\n",
              "\n",
              "    .colab-df-convert:hover {\n",
              "      background-color: #E2EBFA;\n",
              "      box-shadow: 0px 1px 2px rgba(60, 64, 67, 0.3), 0px 1px 3px 1px rgba(60, 64, 67, 0.15);\n",
              "      fill: #174EA6;\n",
              "    }\n",
              "\n",
              "    [theme=dark] .colab-df-convert {\n",
              "      background-color: #3B4455;\n",
              "      fill: #D2E3FC;\n",
              "    }\n",
              "\n",
              "    [theme=dark] .colab-df-convert:hover {\n",
              "      background-color: #434B5C;\n",
              "      box-shadow: 0px 1px 3px 1px rgba(0, 0, 0, 0.15);\n",
              "      filter: drop-shadow(0px 1px 2px rgba(0, 0, 0, 0.3));\n",
              "      fill: #FFFFFF;\n",
              "    }\n",
              "  </style>\n",
              "\n",
              "      <script>\n",
              "        const buttonEl =\n",
              "          document.querySelector('#df-34494658-70d6-4328-a1a8-8e6a6f4cf2a7 button.colab-df-convert');\n",
              "        buttonEl.style.display =\n",
              "          google.colab.kernel.accessAllowed ? 'block' : 'none';\n",
              "\n",
              "        async function convertToInteractive(key) {\n",
              "          const element = document.querySelector('#df-34494658-70d6-4328-a1a8-8e6a6f4cf2a7');\n",
              "          const dataTable =\n",
              "            await google.colab.kernel.invokeFunction('convertToInteractive',\n",
              "                                                     [key], {});\n",
              "          if (!dataTable) return;\n",
              "\n",
              "          const docLinkHtml = 'Like what you see? Visit the ' +\n",
              "            '<a target=\"_blank\" href=https://colab.research.google.com/notebooks/data_table.ipynb>data table notebook</a>'\n",
              "            + ' to learn more about interactive tables.';\n",
              "          element.innerHTML = '';\n",
              "          dataTable['output_type'] = 'display_data';\n",
              "          await google.colab.output.renderOutput(dataTable, element);\n",
              "          const docLink = document.createElement('div');\n",
              "          docLink.innerHTML = docLinkHtml;\n",
              "          element.appendChild(docLink);\n",
              "        }\n",
              "      </script>\n",
              "    </div>\n",
              "  </div>\n",
              "  "
            ]
          },
          "metadata": {},
          "execution_count": 120
        }
      ]
    },
    {
      "cell_type": "code",
      "source": [
        "np.mean((act[\"Actual_value\"] -pred[\"Precicted_value\"])**2)"
      ],
      "metadata": {
        "colab": {
          "base_uri": "https://localhost:8080/"
        },
        "id": "fjWr3VT1KoBy",
        "outputId": "b20a8b20-d8f1-4e25-f15f-6f14d1a0748d"
      },
      "execution_count": 69,
      "outputs": [
        {
          "output_type": "execute_result",
          "data": {
            "text/plain": [
              "8.23979497168921"
            ]
          },
          "metadata": {},
          "execution_count": 69
        }
      ]
    },
    {
      "cell_type": "code",
      "source": [
        "plt.plot(pred[\"Precicted_value\"], label=\"Predicted\", color=\"red\")\n",
        "plt.plot(act[\"Actual_value\"], label=\"Actual\", color=\"green\")\n",
        "plt.legend()\n",
        "plt.show()"
      ],
      "metadata": {
        "colab": {
          "base_uri": "https://localhost:8080/",
          "height": 262
        },
        "id": "Q1ccq8zBLRNj",
        "outputId": "669d7a16-c432-498e-903f-1edcbc1294ca"
      },
      "execution_count": 74,
      "outputs": [
        {
          "output_type": "display_data",
          "data": {
            "text/plain": [
              "<Figure size 432x288 with 1 Axes>"
            ],
            "image/png": "[encoded data removed]"
          },
          "metadata": {
            "needs_background": "light"
          }
        }
      ]
    },
    {
      "cell_type": "code",
      "source": [
        "# Can we predict future value which we have not taken into train and Test data ?\n"
      ],
      "metadata": {
        "id": "N9-jYomiR_o2"
      },
      "execution_count": null,
      "outputs": []
    },
    {
      "cell_type": "code",
      "source": [],
      "metadata": {
        "id": "j9_ToMKq5H03"
      },
      "execution_count": null,
      "outputs": []
    },
    {
      "cell_type": "code",
      "source": [],
      "metadata": {
        "id": "P-VDv3AG5Hnh"
      },
      "execution_count": null,
      "outputs": []
    },
    {
      "cell_type": "code",
      "source": [],
      "metadata": {
        "id": "T9ooTlF25Hdm"
      },
      "execution_count": null,
      "outputs": []
    },
    {
      "cell_type": "code",
      "source": [],
      "metadata": {
        "id": "tCdJHfhw5HSR"
      },
      "execution_count": null,
      "outputs": []
    },
    {
      "cell_type": "code",
      "source": [],
      "metadata": {
        "id": "YMJ1ikGo5HF6"
      },
      "execution_count": null,
      "outputs": []
    },
    {
      "cell_type": "code",
      "source": [
        "a"
      ],
      "metadata": {
        "id": "6L8jGjgl5Gs_"
      },
      "execution_count": null,
      "outputs": []
    },
    {
      "cell_type": "code",
      "source": [
        "n_lookback = 60  # length of input sequences (lookback period)\n",
        "n_forecast = 30 "
      ],
      "metadata": {
        "id": "d4RaDUM_Rx5w"
      },
      "execution_count": null,
      "outputs": []
    },
    {
      "cell_type": "code",
      "source": [
        "X = []\n",
        "Y = []\n",
        "\n",
        "for i in range(n_lookback, len(y_test) - n_forecast + 1):\n",
        "    X.append(y_test[i - n_lookback: i])\n",
        "    Y.append(y_test[i: i + n_forecast])\n",
        "\n",
        "X = np.array(X)\n",
        "Y = np.array(Y)"
      ],
      "metadata": {
        "id": "V6NcI413Q9hh"
      },
      "execution_count": null,
      "outputs": []
    },
    {
      "cell_type": "code",
      "source": [
        "df"
      ],
      "metadata": {
        "colab": {
          "base_uri": "https://localhost:8080/",
          "height": 424
        },
        "id": "lYIQK2p2R2Op",
        "outputId": "f7000581-715b-4a6e-d89a-c569a7254b44"
      },
      "execution_count": null,
      "outputs": [
        {
          "output_type": "execute_result",
          "data": {
            "text/plain": [
              "            Date       Open        High        Low      Close  Adj Close  \\\n",
              "0     2004-08-19   2.490664    2.591785   2.390042   2.499133   2.499133   \n",
              "1     2004-08-20   2.515820    2.716817   2.503118   2.697639   2.697639   \n",
              "2     2004-08-23   2.758411    2.826406   2.716070   2.724787   2.724787   \n",
              "3     2004-08-24   2.770615    2.779581   2.579581   2.611960   2.611960   \n",
              "4     2004-08-25   2.614201    2.689918   2.587302   2.640104   2.640104   \n",
              "...          ...        ...         ...        ...        ...        ...   \n",
              "4591  2022-11-11  94.709999   97.360001  94.160004  96.730003  96.730003   \n",
              "4592  2022-11-14  95.500000   97.180000  95.112999  96.029999  96.029999   \n",
              "4593  2022-11-15  98.669998  100.419998  97.019997  98.720001  98.720001   \n",
              "4594  2022-11-16  98.019997   99.849998  97.902000  98.989998  98.989998   \n",
              "4595  2022-11-17  97.180000   99.480003  97.099998  98.500000  98.500000   \n",
              "\n",
              "         Volume  \n",
              "0     897427216  \n",
              "1     458857488  \n",
              "2     366857939  \n",
              "3     306396159  \n",
              "4     184645512  \n",
              "...         ...  \n",
              "4591   30536500  \n",
              "4592   24170100  \n",
              "4593   31831000  \n",
              "4594   24660200  \n",
              "4595   21818700  \n",
              "\n",
              "[4596 rows x 7 columns]"
            ],
            "text/html": [
              "\n",
              "  <div id=\"df-0ff7f0f8-d98e-45ca-8ca7-8f7574e1aad9\">\n",
              "    <div class=\"colab-df-container\">\n",
              "      <div>\n",
              "<style scoped>\n",
              "    .dataframe tbody tr th:only-of-type {\n",
              "        vertical-align: middle;\n",
              "    }\n",
              "\n",
              "    .dataframe tbody tr th {\n",
              "        vertical-align: top;\n",
              "    }\n",
              "\n",
              "    .dataframe thead th {\n",
              "        text-align: right;\n",
              "    }\n",
              "</style>\n",
              "<table border=\"1\" class=\"dataframe\">\n",
              "  <thead>\n",
              "    <tr style=\"text-align: right;\">\n",
              "      <th></th>\n",
              "      <th>Date</th>\n",
              "      <th>Open</th>\n",
              "      <th>High</th>\n",
              "      <th>Low</th>\n",
              "      <th>Close</th>\n",
              "      <th>Adj Close</th>\n",
              "      <th>Volume</th>\n",
              "    </tr>\n",
              "  </thead>\n",
              "  <tbody>\n",
              "    <tr>\n",
              "      <th>0</th>\n",
              "      <td>2004-08-19</td>\n",
              "      <td>2.490664</td>\n",
              "      <td>2.591785</td>\n",
              "      <td>2.390042</td>\n",
              "      <td>2.499133</td>\n",
              "      <td>2.499133</td>\n",
              "      <td>897427216</td>\n",
              "    </tr>\n",
              "    <tr>\n",
              "      <th>1</th>\n",
              "      <td>2004-08-20</td>\n",
              "      <td>2.515820</td>\n",
              "      <td>2.716817</td>\n",
              "      <td>2.503118</td>\n",
              "      <td>2.697639</td>\n",
              "      <td>2.697639</td>\n",
              "      <td>458857488</td>\n",
              "    </tr>\n",
              "    <tr>\n",
              "      <th>2</th>\n",
              "      <td>2004-08-23</td>\n",
              "      <td>2.758411</td>\n",
              "      <td>2.826406</td>\n",
              "      <td>2.716070</td>\n",
              "      <td>2.724787</td>\n",
              "      <td>2.724787</td>\n",
              "      <td>366857939</td>\n",
              "    </tr>\n",
              "    <tr>\n",
              "      <th>3</th>\n",
              "      <td>2004-08-24</td>\n",
              "      <td>2.770615</td>\n",
              "      <td>2.779581</td>\n",
              "      <td>2.579581</td>\n",
              "      <td>2.611960</td>\n",
              "      <td>2.611960</td>\n",
              "      <td>306396159</td>\n",
              "    </tr>\n",
              "    <tr>\n",
              "      <th>4</th>\n",
              "      <td>2004-08-25</td>\n",
              "      <td>2.614201</td>\n",
              "      <td>2.689918</td>\n",
              "      <td>2.587302</td>\n",
              "      <td>2.640104</td>\n",
              "      <td>2.640104</td>\n",
              "      <td>184645512</td>\n",
              "    </tr>\n",
              "    <tr>\n",
              "      <th>...</th>\n",
              "      <td>...</td>\n",
              "      <td>...</td>\n",
              "      <td>...</td>\n",
              "      <td>...</td>\n",
              "      <td>...</td>\n",
              "      <td>...</td>\n",
              "      <td>...</td>\n",
              "    </tr>\n",
              "    <tr>\n",
              "      <th>4591</th>\n",
              "      <td>2022-11-11</td>\n",
              "      <td>94.709999</td>\n",
              "      <td>97.360001</td>\n",
              "      <td>94.160004</td>\n",
              "      <td>96.730003</td>\n",
              "      <td>96.730003</td>\n",
              "      <td>30536500</td>\n",
              "    </tr>\n",
              "    <tr>\n",
              "      <th>4592</th>\n",
              "      <td>2022-11-14</td>\n",
              "      <td>95.500000</td>\n",
              "      <td>97.180000</td>\n",
              "      <td>95.112999</td>\n",
              "      <td>96.029999</td>\n",
              "      <td>96.029999</td>\n",
              "      <td>24170100</td>\n",
              "    </tr>\n",
              "    <tr>\n",
              "      <th>4593</th>\n",
              "      <td>2022-11-15</td>\n",
              "      <td>98.669998</td>\n",
              "      <td>100.419998</td>\n",
              "      <td>97.019997</td>\n",
              "      <td>98.720001</td>\n",
              "      <td>98.720001</td>\n",
              "      <td>31831000</td>\n",
              "    </tr>\n",
              "    <tr>\n",
              "      <th>4594</th>\n",
              "      <td>2022-11-16</td>\n",
              "      <td>98.019997</td>\n",
              "      <td>99.849998</td>\n",
              "      <td>97.902000</td>\n",
              "      <td>98.989998</td>\n",
              "      <td>98.989998</td>\n",
              "      <td>24660200</td>\n",
              "    </tr>\n",
              "    <tr>\n",
              "      <th>4595</th>\n",
              "      <td>2022-11-17</td>\n",
              "      <td>97.180000</td>\n",
              "      <td>99.480003</td>\n",
              "      <td>97.099998</td>\n",
              "      <td>98.500000</td>\n",
              "      <td>98.500000</td>\n",
              "      <td>21818700</td>\n",
              "    </tr>\n",
              "  </tbody>\n",
              "</table>\n",
              "<p>4596 rows × 7 columns</p>\n",
              "</div>\n",
              "      <button class=\"colab-df-convert\" onclick=\"convertToInteractive('df-0ff7f0f8-d98e-45ca-8ca7-8f7574e1aad9')\"\n",
              "              title=\"Convert this dataframe to an interactive table.\"\n",
              "              style=\"display:none;\">\n",
              "        \n",
              "  <svg xmlns=\"http://www.w3.org/2000/svg\" height=\"24px\"viewBox=\"0 0 24 24\"\n",
              "       width=\"24px\">\n",
              "    <path d=\"M0 0h24v24H0V0z\" fill=\"none\"/>\n",
              "    <path d=\"M18.56 5.44l.94 2.06.94-2.06 2.06-.94-2.06-.94-.94-2.06-.94 2.06-2.06.94zm-11 1L8.5 8.5l.94-2.06 2.06-.94-2.06-.94L8.5 2.5l-.94 2.06-2.06.94zm10 10l.94 2.06.94-2.06 2.06-.94-2.06-.94-.94-2.06-.94 2.06-2.06.94z\"/><path d=\"M17.41 7.96l-1.37-1.37c-.4-.4-.92-.59-1.43-.59-.52 0-1.04.2-1.43.59L10.3 9.45l-7.72 7.72c-.78.78-.78 2.05 0 2.83L4 21.41c.39.39.9.59 1.41.59.51 0 1.02-.2 1.41-.59l7.78-7.78 2.81-2.81c.8-.78.8-2.07 0-2.86zM5.41 20L4 18.59l7.72-7.72 1.47 1.35L5.41 20z\"/>\n",
              "  </svg>\n",
              "      </button>\n",
              "      \n",
              "  <style>\n",
              "    .colab-df-container {\n",
              "      display:flex;\n",
              "      flex-wrap:wrap;\n",
              "      gap: 12px;\n",
              "    }\n",
              "\n",
              "    .colab-df-convert {\n",
              "      background-color: #E8F0FE;\n",
              "      border: none;\n",
              "      border-radius: 50%;\n",
              "      cursor: pointer;\n",
              "      display: none;\n",
              "      fill: #1967D2;\n",
              "      height: 32px;\n",
              "      padding: 0 0 0 0;\n",
              "      width: 32px;\n",
              "    }\n",
              "\n",
              "    .colab-df-convert:hover {\n",
              "      background-color: #E2EBFA;\n",
              "      box-shadow: 0px 1px 2px rgba(60, 64, 67, 0.3), 0px 1px 3px 1px rgba(60, 64, 67, 0.15);\n",
              "      fill: #174EA6;\n",
              "    }\n",
              "\n",
              "    [theme=dark] .colab-df-convert {\n",
              "      background-color: #3B4455;\n",
              "      fill: #D2E3FC;\n",
              "    }\n",
              "\n",
              "    [theme=dark] .colab-df-convert:hover {\n",
              "      background-color: #434B5C;\n",
              "      box-shadow: 0px 1px 3px 1px rgba(0, 0, 0, 0.15);\n",
              "      filter: drop-shadow(0px 1px 2px rgba(0, 0, 0, 0.3));\n",
              "      fill: #FFFFFF;\n",
              "    }\n",
              "  </style>\n",
              "\n",
              "      <script>\n",
              "        const buttonEl =\n",
              "          document.querySelector('#df-0ff7f0f8-d98e-45ca-8ca7-8f7574e1aad9 button.colab-df-convert');\n",
              "        buttonEl.style.display =\n",
              "          google.colab.kernel.accessAllowed ? 'block' : 'none';\n",
              "\n",
              "        async function convertToInteractive(key) {\n",
              "          const element = document.querySelector('#df-0ff7f0f8-d98e-45ca-8ca7-8f7574e1aad9');\n",
              "          const dataTable =\n",
              "            await google.colab.kernel.invokeFunction('convertToInteractive',\n",
              "                                                     [key], {});\n",
              "          if (!dataTable) return;\n",
              "\n",
              "          const docLinkHtml = 'Like what you see? Visit the ' +\n",
              "            '<a target=\"_blank\" href=https://colab.research.google.com/notebooks/data_table.ipynb>data table notebook</a>'\n",
              "            + ' to learn more about interactive tables.';\n",
              "          element.innerHTML = '';\n",
              "          dataTable['output_type'] = 'display_data';\n",
              "          await google.colab.output.renderOutput(dataTable, element);\n",
              "          const docLink = document.createElement('div');\n",
              "          docLink.innerHTML = docLinkHtml;\n",
              "          element.appendChild(docLink);\n",
              "        }\n",
              "      </script>\n",
              "    </div>\n",
              "  </div>\n",
              "  "
            ]
          },
          "metadata": {},
          "execution_count": 66
        }
      ]
    },
    {
      "cell_type": "code",
      "source": [
        "import numpy as np\n",
        "import pandas as pd\n",
        "# import yfinance as yf\n",
        "import tensorflow as tf\n",
        "from tensorflow.keras.layers import Dense, LSTM\n",
        "from tensorflow.keras.models import Sequential\n",
        "from sklearn.preprocessing import MinMaxScaler\n",
        "pd.options.mode.chained_assignment = None\n",
        "tf.random.set_seed(0)\n",
        "\n",
        "# download the data\n",
        "# df = yf.download(tickers=['AAPL'], period='1y')\n",
        "# y = df['Close'].fillna(method='ffill')\n",
        "\n",
        "\n",
        "start = pd.to_datetime(['2002-01-01']).astype(int)[0]//10**9 # convert to unix timestamp.\n",
        "end = pd.to_datetime(['2022-11-18']).astype(int)[0]//10**9 # convert to unix timestamp.\n",
        "stock_ticker=\"GOOG\"\n",
        "url = 'https://query1.finance.yahoo.com/v7/finance/download/' + stock_ticker + '?period1=' + str(start) + '&period2=' + str(end) + '&interval=1d&events=history'\n",
        "df = pd.read_csv(url)\n",
        "y = df['Close'].fillna(method='ffill') \n",
        "\n",
        "\n",
        "\n",
        "y = y.values.reshape(-1, 1)\n",
        "# scale the data\n",
        "scaler = MinMaxScaler(feature_range=(0, 1))\n",
        "scaler = scaler.fit(y)\n",
        "y = scaler.transform(y)\n",
        "\n",
        "# generate the input and output sequences\n",
        "n_lookback = 60  # length of input sequences (lookback period)\n",
        "n_forecast = 30  # length of output sequences (forecast period)\n",
        "\n",
        "X = []\n",
        "Y = []\n",
        "\n",
        "for i in range(n_lookback, len(y) - n_forecast + 1):\n",
        "    X.append(y[i - n_lookback: i])\n",
        "    Y.append(y[i: i + n_forecast])\n",
        "\n",
        "X = np.array(X)\n",
        "Y = np.array(Y)\n",
        "\n",
        "# fit the model\n",
        "model = Sequential()\n",
        "model.add(LSTM(units=50, return_sequences=True, input_shape=(n_lookback, 1)))\n",
        "model.add(LSTM(units=50))\n",
        "model.add(Dense(n_forecast))\n",
        "\n",
        "model.compile(loss='mean_squared_error', optimizer='adam')\n",
        "model.fit(X, Y, epochs=100, batch_size=32)\n"
      ],
      "metadata": {
        "colab": {
          "base_uri": "https://localhost:8080/"
        },
        "id": "MFpB5SYvTDng",
        "outputId": "dfa50705-5e53-4421-b1ab-521a6e294a92"
      },
      "execution_count": null,
      "outputs": [
        {
          "output_type": "stream",
          "name": "stderr",
          "text": [
            "/usr/local/lib/python3.7/dist-packages/ipykernel_launcher.py:16: FutureWarning: casting datetime64[ns] values to int64 with .astype(...) is deprecated and will raise in a future version. Use .view(...) instead.\n",
            "  app.launch_new_instance()\n",
            "/usr/local/lib/python3.7/dist-packages/ipykernel_launcher.py:17: FutureWarning: casting datetime64[ns] values to int64 with .astype(...) is deprecated and will raise in a future version. Use .view(...) instead.\n"
          ]
        },
        {
          "output_type": "stream",
          "name": "stdout",
          "text": [
            "Epoch 1/100\n",
            "141/141 [==============================] - 4s 8ms/step - loss: 0.0099\n",
            "Epoch 2/100\n",
            "141/141 [==============================] - 1s 8ms/step - loss: 7.8872e-04\n",
            "Epoch 3/100\n",
            "141/141 [==============================] - 1s 8ms/step - loss: 7.5507e-04\n",
            "Epoch 4/100\n",
            "141/141 [==============================] - 1s 8ms/step - loss: 6.8572e-04\n",
            "Epoch 5/100\n",
            "141/141 [==============================] - 1s 8ms/step - loss: 6.5873e-04\n",
            "Epoch 6/100\n",
            "141/141 [==============================] - 1s 8ms/step - loss: 6.4274e-04\n",
            "Epoch 7/100\n",
            "141/141 [==============================] - 1s 8ms/step - loss: 7.0214e-04\n",
            "Epoch 8/100\n",
            "141/141 [==============================] - 1s 8ms/step - loss: 6.3927e-04\n",
            "Epoch 9/100\n",
            "141/141 [==============================] - 1s 8ms/step - loss: 6.3349e-04\n",
            "Epoch 10/100\n",
            "141/141 [==============================] - 1s 8ms/step - loss: 6.0402e-04\n",
            "Epoch 11/100\n",
            "141/141 [==============================] - 1s 8ms/step - loss: 6.4844e-04\n",
            "Epoch 12/100\n",
            "141/141 [==============================] - 1s 8ms/step - loss: 5.8114e-04\n",
            "Epoch 13/100\n",
            "141/141 [==============================] - 1s 8ms/step - loss: 6.1539e-04\n",
            "Epoch 14/100\n",
            "141/141 [==============================] - 1s 8ms/step - loss: 5.8326e-04\n",
            "Epoch 15/100\n",
            "141/141 [==============================] - 1s 8ms/step - loss: 6.0277e-04\n",
            "Epoch 16/100\n",
            "141/141 [==============================] - 1s 8ms/step - loss: 5.7574e-04\n",
            "Epoch 17/100\n",
            "141/141 [==============================] - 1s 8ms/step - loss: 5.4504e-04\n",
            "Epoch 18/100\n",
            "141/141 [==============================] - 1s 8ms/step - loss: 5.7343e-04\n",
            "Epoch 19/100\n",
            "141/141 [==============================] - 1s 8ms/step - loss: 5.9270e-04\n",
            "Epoch 20/100\n",
            "141/141 [==============================] - 1s 8ms/step - loss: 5.3996e-04\n",
            "Epoch 21/100\n",
            "141/141 [==============================] - 1s 8ms/step - loss: 5.4878e-04\n",
            "Epoch 22/100\n",
            "141/141 [==============================] - 1s 8ms/step - loss: 5.6073e-04\n",
            "Epoch 23/100\n",
            "141/141 [==============================] - 1s 8ms/step - loss: 5.5928e-04\n",
            "Epoch 24/100\n",
            "141/141 [==============================] - 1s 8ms/step - loss: 5.5728e-04\n",
            "Epoch 25/100\n",
            "141/141 [==============================] - 1s 8ms/step - loss: 5.7385e-04\n",
            "Epoch 26/100\n",
            "141/141 [==============================] - 1s 8ms/step - loss: 5.4811e-04\n",
            "Epoch 27/100\n",
            "141/141 [==============================] - 1s 8ms/step - loss: 5.4446e-04\n",
            "Epoch 28/100\n",
            "141/141 [==============================] - 1s 8ms/step - loss: 5.3165e-04\n",
            "Epoch 29/100\n",
            "141/141 [==============================] - 1s 8ms/step - loss: 5.2463e-04\n",
            "Epoch 30/100\n",
            "141/141 [==============================] - 1s 8ms/step - loss: 5.3634e-04\n",
            "Epoch 31/100\n",
            "141/141 [==============================] - 1s 8ms/step - loss: 5.4505e-04\n",
            "Epoch 32/100\n",
            "141/141 [==============================] - 1s 8ms/step - loss: 5.6241e-04\n",
            "Epoch 33/100\n",
            "141/141 [==============================] - 1s 8ms/step - loss: 5.2713e-04\n",
            "Epoch 34/100\n",
            "141/141 [==============================] - 1s 8ms/step - loss: 5.3362e-04\n",
            "Epoch 35/100\n",
            "141/141 [==============================] - 1s 8ms/step - loss: 5.2316e-04\n",
            "Epoch 36/100\n",
            "141/141 [==============================] - 1s 8ms/step - loss: 5.1858e-04\n",
            "Epoch 37/100\n",
            "141/141 [==============================] - 1s 8ms/step - loss: 5.1416e-04\n",
            "Epoch 38/100\n",
            "141/141 [==============================] - 1s 8ms/step - loss: 5.2645e-04\n",
            "Epoch 39/100\n",
            "141/141 [==============================] - 1s 8ms/step - loss: 5.2872e-04\n",
            "Epoch 40/100\n",
            "141/141 [==============================] - 1s 8ms/step - loss: 5.0137e-04\n",
            "Epoch 41/100\n",
            "141/141 [==============================] - 1s 8ms/step - loss: 5.1935e-04\n",
            "Epoch 42/100\n",
            "141/141 [==============================] - 1s 8ms/step - loss: 5.2077e-04\n",
            "Epoch 43/100\n",
            "141/141 [==============================] - 1s 8ms/step - loss: 5.2036e-04\n",
            "Epoch 44/100\n",
            "141/141 [==============================] - 1s 8ms/step - loss: 5.2325e-04\n",
            "Epoch 45/100\n",
            "141/141 [==============================] - 1s 8ms/step - loss: 5.0939e-04\n",
            "Epoch 46/100\n",
            "141/141 [==============================] - 1s 8ms/step - loss: 5.0187e-04\n",
            "Epoch 47/100\n",
            "141/141 [==============================] - 1s 8ms/step - loss: 5.0835e-04\n",
            "Epoch 48/100\n",
            "141/141 [==============================] - 1s 8ms/step - loss: 4.9933e-04\n",
            "Epoch 49/100\n",
            "141/141 [==============================] - 1s 8ms/step - loss: 5.1727e-04\n",
            "Epoch 50/100\n",
            "141/141 [==============================] - 1s 8ms/step - loss: 4.8850e-04\n",
            "Epoch 51/100\n",
            "141/141 [==============================] - 1s 8ms/step - loss: 5.0199e-04\n",
            "Epoch 52/100\n",
            "141/141 [==============================] - 1s 8ms/step - loss: 5.0707e-04\n",
            "Epoch 53/100\n",
            "141/141 [==============================] - 1s 8ms/step - loss: 5.0762e-04\n",
            "Epoch 54/100\n",
            "141/141 [==============================] - 1s 8ms/step - loss: 4.8795e-04\n",
            "Epoch 55/100\n",
            "141/141 [==============================] - 1s 8ms/step - loss: 4.9203e-04\n",
            "Epoch 56/100\n",
            "141/141 [==============================] - 1s 8ms/step - loss: 4.9140e-04\n",
            "Epoch 57/100\n",
            "141/141 [==============================] - 1s 8ms/step - loss: 4.8767e-04\n",
            "Epoch 58/100\n",
            "141/141 [==============================] - 1s 8ms/step - loss: 4.8944e-04\n",
            "Epoch 59/100\n",
            "141/141 [==============================] - 1s 8ms/step - loss: 4.9138e-04\n",
            "Epoch 60/100\n",
            "141/141 [==============================] - 1s 8ms/step - loss: 4.8215e-04\n",
            "Epoch 61/100\n",
            "141/141 [==============================] - 2s 13ms/step - loss: 5.0169e-04\n",
            "Epoch 62/100\n",
            "141/141 [==============================] - 2s 11ms/step - loss: 4.9812e-04\n",
            "Epoch 63/100\n",
            "141/141 [==============================] - 1s 8ms/step - loss: 4.8762e-04\n",
            "Epoch 64/100\n",
            "141/141 [==============================] - 1s 8ms/step - loss: 4.8761e-04\n",
            "Epoch 65/100\n",
            "141/141 [==============================] - 1s 8ms/step - loss: 4.8622e-04\n",
            "Epoch 66/100\n",
            "141/141 [==============================] - 1s 8ms/step - loss: 4.6601e-04\n",
            "Epoch 67/100\n",
            "141/141 [==============================] - 1s 8ms/step - loss: 5.0142e-04\n",
            "Epoch 68/100\n",
            "141/141 [==============================] - 1s 8ms/step - loss: 4.8961e-04\n",
            "Epoch 69/100\n",
            "141/141 [==============================] - 1s 8ms/step - loss: 4.9093e-04\n",
            "Epoch 70/100\n",
            "141/141 [==============================] - 1s 8ms/step - loss: 4.9437e-04\n",
            "Epoch 71/100\n",
            "141/141 [==============================] - 1s 8ms/step - loss: 5.0667e-04\n",
            "Epoch 72/100\n",
            "141/141 [==============================] - 1s 8ms/step - loss: 4.5950e-04\n",
            "Epoch 73/100\n",
            "141/141 [==============================] - 1s 8ms/step - loss: 4.9726e-04\n",
            "Epoch 74/100\n",
            "141/141 [==============================] - 1s 8ms/step - loss: 4.5749e-04\n",
            "Epoch 75/100\n",
            "141/141 [==============================] - 1s 8ms/step - loss: 4.9308e-04\n",
            "Epoch 76/100\n",
            "141/141 [==============================] - 1s 8ms/step - loss: 4.4864e-04\n",
            "Epoch 77/100\n",
            "141/141 [==============================] - 1s 8ms/step - loss: 4.4111e-04\n",
            "Epoch 78/100\n",
            "141/141 [==============================] - 1s 8ms/step - loss: 4.5225e-04\n",
            "Epoch 79/100\n",
            "141/141 [==============================] - 1s 8ms/step - loss: 4.6014e-04\n",
            "Epoch 80/100\n",
            "141/141 [==============================] - 1s 8ms/step - loss: 4.6103e-04\n",
            "Epoch 81/100\n",
            "141/141 [==============================] - 1s 8ms/step - loss: 4.4620e-04\n",
            "Epoch 82/100\n",
            "141/141 [==============================] - 1s 8ms/step - loss: 4.3086e-04\n",
            "Epoch 83/100\n",
            "141/141 [==============================] - 1s 8ms/step - loss: 4.6086e-04\n",
            "Epoch 84/100\n",
            "141/141 [==============================] - 1s 8ms/step - loss: 4.6715e-04\n",
            "Epoch 85/100\n",
            "141/141 [==============================] - 1s 8ms/step - loss: 4.4445e-04\n",
            "Epoch 86/100\n",
            "141/141 [==============================] - 1s 8ms/step - loss: 4.3474e-04\n",
            "Epoch 87/100\n",
            "141/141 [==============================] - 1s 11ms/step - loss: 4.4799e-04\n",
            "Epoch 88/100\n",
            "141/141 [==============================] - 1s 10ms/step - loss: 4.2716e-04\n",
            "Epoch 89/100\n",
            "141/141 [==============================] - 1s 8ms/step - loss: 4.1857e-04\n",
            "Epoch 90/100\n",
            "141/141 [==============================] - 1s 8ms/step - loss: 4.1731e-04\n",
            "Epoch 91/100\n",
            "141/141 [==============================] - 1s 8ms/step - loss: 4.2840e-04\n",
            "Epoch 92/100\n",
            "141/141 [==============================] - 1s 8ms/step - loss: 4.3614e-04\n",
            "Epoch 93/100\n",
            "141/141 [==============================] - 1s 8ms/step - loss: 4.3207e-04\n",
            "Epoch 94/100\n",
            "141/141 [==============================] - 1s 8ms/step - loss: 4.3144e-04\n",
            "Epoch 95/100\n",
            "141/141 [==============================] - 1s 8ms/step - loss: 4.2108e-04\n",
            "Epoch 96/100\n",
            "141/141 [==============================] - 1s 8ms/step - loss: 4.5844e-04\n",
            "Epoch 97/100\n",
            "141/141 [==============================] - 1s 8ms/step - loss: 4.1327e-04\n",
            "Epoch 98/100\n",
            "141/141 [==============================] - 1s 8ms/step - loss: 4.2125e-04\n",
            "Epoch 99/100\n",
            "141/141 [==============================] - 1s 8ms/step - loss: 4.3290e-04\n",
            "Epoch 100/100\n",
            "141/141 [==============================] - 1s 8ms/step - loss: 4.2129e-04\n"
          ]
        },
        {
          "output_type": "execute_result",
          "data": {
            "text/plain": [
              "<keras.callbacks.History at 0x7f8de0491290>"
            ]
          },
          "metadata": {},
          "execution_count": 7
        }
      ]
    },
    {
      "cell_type": "code",
      "source": [
        "# Printing the last 10 values\n",
        "print('Original Prices')\n",
        "print(y[-10:])\n",
        " \n",
        "print('###################')\n",
        " \n",
        "# Printing last 10 values of the scaled data which we have created above for the last model\n",
        "# Here I am changing the shape of the data to one dimensional array because\n",
        "# for Multi step data preparation we need to X input in this fashion\n",
        "X_test=X_test.reshape(X_test.shape[0],)\n",
        "print('Scaled Prices')\n",
        "print(X_test[-10:])"
      ],
      "metadata": {
        "colab": {
          "base_uri": "https://localhost:8080/",
          "height": 443
        },
        "id": "CoReIce7zQWu",
        "outputId": "4198d135-b4ab-4779-f0be-6ffdebb8d790"
      },
      "execution_count": null,
      "outputs": [
        {
          "output_type": "stream",
          "name": "stdout",
          "text": [
            "Original Prices\n",
            "[[0.5681431 ]\n",
            " [0.58129943]\n",
            " [0.58305361]\n",
            " [0.57286591]\n",
            " [0.61854182]\n",
            " [0.6358137 ]\n",
            " [0.6310909 ]\n",
            " [0.64923985]\n",
            " [0.65106147]\n",
            " [0.64775554]]\n",
            "###################\n"
          ]
        },
        {
          "output_type": "error",
          "ename": "NameError",
          "evalue": "ignored",
          "traceback": [
            "\u001b[0;31m---------------------------------------------------------------------------\u001b[0m",
            "\u001b[0;31mNameError\u001b[0m                                 Traceback (most recent call last)",
            "\u001b[0;32m<ipython-input-9-ec9c8a09fdcb>\u001b[0m in \u001b[0;36m<module>\u001b[0;34m\u001b[0m\n\u001b[1;32m      8\u001b[0m \u001b[0;31m# Here I am changing the shape of the data to one dimensional array because\u001b[0m\u001b[0;34m\u001b[0m\u001b[0;34m\u001b[0m\u001b[0;34m\u001b[0m\u001b[0m\n\u001b[1;32m      9\u001b[0m \u001b[0;31m# for Multi step data preparation we need to X input in this fashion\u001b[0m\u001b[0;34m\u001b[0m\u001b[0;34m\u001b[0m\u001b[0;34m\u001b[0m\u001b[0m\n\u001b[0;32m---> 10\u001b[0;31m \u001b[0mX_test\u001b[0m\u001b[0;34m=\u001b[0m\u001b[0mX_test\u001b[0m\u001b[0;34m.\u001b[0m\u001b[0mreshape\u001b[0m\u001b[0;34m(\u001b[0m\u001b[0mX_test\u001b[0m\u001b[0;34m.\u001b[0m\u001b[0mshape\u001b[0m\u001b[0;34m[\u001b[0m\u001b[0;36m0\u001b[0m\u001b[0;34m]\u001b[0m\u001b[0;34m,\u001b[0m\u001b[0;34m)\u001b[0m\u001b[0;34m\u001b[0m\u001b[0;34m\u001b[0m\u001b[0m\n\u001b[0m\u001b[1;32m     11\u001b[0m \u001b[0mprint\u001b[0m\u001b[0;34m(\u001b[0m\u001b[0;34m'Scaled Prices'\u001b[0m\u001b[0;34m)\u001b[0m\u001b[0;34m\u001b[0m\u001b[0;34m\u001b[0m\u001b[0m\n\u001b[1;32m     12\u001b[0m \u001b[0mprint\u001b[0m\u001b[0;34m(\u001b[0m\u001b[0mX_test\u001b[0m\u001b[0;34m[\u001b[0m\u001b[0;34m-\u001b[0m\u001b[0;36m10\u001b[0m\u001b[0;34m:\u001b[0m\u001b[0;34m]\u001b[0m\u001b[0;34m)\u001b[0m\u001b[0;34m\u001b[0m\u001b[0;34m\u001b[0m\u001b[0m\n",
            "\u001b[0;31mNameError\u001b[0m: name 'X_test' is not defined"
          ]
        }
      ]
    },
    {
      "cell_type": "code",
      "source": [
        "\n",
        "# generate the forecasts\n",
        "X_ = y[- n_lookback:]  # last available input sequence\n",
        "X_ = X_.reshape(1, n_lookback, 1)\n",
        "\n",
        "Y_ = model.predict(X_).reshape(-1, 1)\n",
        "Y_ = scaler.inverse_transform(Y_)\n",
        "\n",
        "# organize the results in a data frame\n",
        "df_past = df[['Close']].reset_index()\n",
        "df_past.rename(columns={'index': 'Date', 'Close': 'Actual'}, inplace=True)\n",
        "df_past['Date'] = pd.to_datetime(df_past['Date'])\n",
        "df_past['Forecast'] = np.nan\n",
        "df_past['Forecast'].iloc[-1] = df_past['Actual'].iloc[-1]\n",
        "\n",
        "df_future = pd.DataFrame(columns=['Date', 'Actual', 'Forecast'])\n",
        "df_future['Date'] = pd.date_range(start=df_past['Date'].iloc[-1] + pd.Timedelta(days=1), periods=n_forecast)\n",
        "df_future['Forecast'] = Y_.flatten()\n",
        "df_future['Actual'] = np.nan\n",
        "\n",
        "results = df_past.append(df_future).set_index('Date')\n",
        "\n",
        "# plot the results\n",
        "results.plot(title='AAPL')\n"
      ],
      "metadata": {
        "id": "8dhMgXHhUGku"
      },
      "execution_count": null,
      "outputs": []
    },
    {
      "cell_type": "code",
      "source": [
        "# https://thinkingneuron.com/predicting-stock-prices-using-deep-learning-lstm-model-in-python/"
      ],
      "metadata": {
        "id": "qhsIDka44q29"
      },
      "execution_count": null,
      "outputs": []
    }
  ]
}